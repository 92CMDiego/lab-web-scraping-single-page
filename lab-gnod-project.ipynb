{
 "cells": [
  {
   "cell_type": "markdown",
   "metadata": {},
   "source": [
    "# Lab | Web Scraping Single Page (GNOD part 1)"
   ]
  },
  {
   "cell_type": "code",
   "execution_count": 9,
   "metadata": {},
   "outputs": [],
   "source": [
    "from bs4 import BeautifulSoup\n",
    "import requests\n",
    "import pandas as pd\n",
    "from pandas import json_normalize"
   ]
  },
  {
   "cell_type": "code",
   "execution_count": 2,
   "metadata": {},
   "outputs": [],
   "source": [
    "url = \"https://www.popvortex.com/music/charts/top-100-songs.php\""
   ]
  },
  {
   "cell_type": "code",
   "execution_count": 3,
   "metadata": {},
   "outputs": [],
   "source": [
    "response = requests.get(url)"
   ]
  },
  {
   "cell_type": "code",
   "execution_count": 4,
   "metadata": {},
   "outputs": [
    {
     "data": {
      "text/plain": [
       "200"
      ]
     },
     "execution_count": 4,
     "metadata": {},
     "output_type": "execute_result"
    }
   ],
   "source": [
    "response.status_code"
   ]
  },
  {
   "cell_type": "code",
   "execution_count": 5,
   "metadata": {},
   "outputs": [],
   "source": [
    "soup = BeautifulSoup(response.content, \"html.parser\")"
   ]
  },
  {
   "cell_type": "markdown",
   "metadata": {},
   "source": [
    "We try to find the correct path in the web."
   ]
  },
  {
   "cell_type": "code",
   "execution_count": 6,
   "metadata": {},
   "outputs": [],
   "source": [
    "# body > div.container > div:nth-child(4) > div.col-xs-12.col-md-8 > div.chart-wrapper"
   ]
  },
  {
   "cell_type": "code",
   "execution_count": 7,
   "metadata": {},
   "outputs": [],
   "source": [
    "# soup.select('body > div.container > div:nth-child(4) > div.col-xs-12.col-md-8 > div.chart-wrapper')"
   ]
  },
  {
   "cell_type": "code",
   "execution_count": 8,
   "metadata": {},
   "outputs": [],
   "source": [
    "#chart-position-1 > div.chart-content.col-xs-12.col-sm-8 > p > cite"
   ]
  },
  {
   "cell_type": "code",
   "execution_count": 9,
   "metadata": {},
   "outputs": [
    {
     "data": {
      "text/plain": [
       "[<cite class=\"title\">Margaritaville</cite>]"
      ]
     },
     "execution_count": 9,
     "metadata": {},
     "output_type": "execute_result"
    }
   ],
   "source": [
    "soup.select('#chart-position-1 > div.chart-content.col-xs-12.col-sm-8 > p > cite')"
   ]
  },
  {
   "cell_type": "markdown",
   "metadata": {},
   "source": [
    "We try with '.title' and it works (thanks to Lilit). It seems like only 'cite' tags have the attribute 'title'."
   ]
  },
  {
   "cell_type": "code",
   "execution_count": 10,
   "metadata": {},
   "outputs": [],
   "source": [
    "songs = soup.select('.title')\n",
    "artists = soup.select('.artist')"
   ]
  },
  {
   "cell_type": "code",
   "execution_count": 11,
   "metadata": {},
   "outputs": [],
   "source": [
    "# songs"
   ]
  },
  {
   "cell_type": "code",
   "execution_count": 12,
   "metadata": {},
   "outputs": [],
   "source": [
    "# artists"
   ]
  },
  {
   "cell_type": "markdown",
   "metadata": {},
   "source": [
    "We get the text from each tag and store them in lists that we then transform into a dataframe."
   ]
  },
  {
   "cell_type": "code",
   "execution_count": 13,
   "metadata": {},
   "outputs": [],
   "source": [
    "titles = []\n",
    "for cite in songs:\n",
    "    titles.append(cite.get_text())"
   ]
  },
  {
   "cell_type": "code",
   "execution_count": 14,
   "metadata": {},
   "outputs": [],
   "source": [
    "singers = []\n",
    "for cite in artists:\n",
    "    singers.append(cite.get_text())"
   ]
  },
  {
   "cell_type": "code",
   "execution_count": 15,
   "metadata": {},
   "outputs": [],
   "source": [
    "top100_20230905 = pd.DataFrame({\"title\":titles,\n",
    "                       \"artist\":singers,\n",
    "                      })"
   ]
  },
  {
   "cell_type": "code",
   "execution_count": 16,
   "metadata": {},
   "outputs": [
    {
     "data": {
      "text/html": [
       "<div>\n",
       "<style scoped>\n",
       "    .dataframe tbody tr th:only-of-type {\n",
       "        vertical-align: middle;\n",
       "    }\n",
       "\n",
       "    .dataframe tbody tr th {\n",
       "        vertical-align: top;\n",
       "    }\n",
       "\n",
       "    .dataframe thead th {\n",
       "        text-align: right;\n",
       "    }\n",
       "</style>\n",
       "<table border=\"1\" class=\"dataframe\">\n",
       "  <thead>\n",
       "    <tr style=\"text-align: right;\">\n",
       "      <th></th>\n",
       "      <th>title</th>\n",
       "      <th>artist</th>\n",
       "    </tr>\n",
       "  </thead>\n",
       "  <tbody>\n",
       "    <tr>\n",
       "      <th>0</th>\n",
       "      <td>Margaritaville</td>\n",
       "      <td>Jimmy Buffett</td>\n",
       "    </tr>\n",
       "    <tr>\n",
       "      <th>1</th>\n",
       "      <td>Come Monday</td>\n",
       "      <td>Jimmy Buffett</td>\n",
       "    </tr>\n",
       "    <tr>\n",
       "      <th>2</th>\n",
       "      <td>Rich Men North of Richmond</td>\n",
       "      <td>Oliver Anthony Music</td>\n",
       "    </tr>\n",
       "    <tr>\n",
       "      <th>3</th>\n",
       "      <td>All Star</td>\n",
       "      <td>Smash Mouth</td>\n",
       "    </tr>\n",
       "    <tr>\n",
       "      <th>4</th>\n",
       "      <td>Cheeseburger In Paradise</td>\n",
       "      <td>Jimmy Buffett</td>\n",
       "    </tr>\n",
       "    <tr>\n",
       "      <th>...</th>\n",
       "      <td>...</td>\n",
       "      <td>...</td>\n",
       "    </tr>\n",
       "    <tr>\n",
       "      <th>95</th>\n",
       "      <td>Thought You Should Know</td>\n",
       "      <td>Morgan Wallen</td>\n",
       "    </tr>\n",
       "    <tr>\n",
       "      <th>96</th>\n",
       "      <td>Dial Drunk</td>\n",
       "      <td>Noah Kahan &amp; Post Malone</td>\n",
       "    </tr>\n",
       "    <tr>\n",
       "      <th>97</th>\n",
       "      <td>bad idea right?</td>\n",
       "      <td>Olivia Rodrigo</td>\n",
       "    </tr>\n",
       "    <tr>\n",
       "      <th>98</th>\n",
       "      <td>august</td>\n",
       "      <td>Taylor Swift</td>\n",
       "    </tr>\n",
       "    <tr>\n",
       "      <th>99</th>\n",
       "      <td>Unstoppable</td>\n",
       "      <td>Sia</td>\n",
       "    </tr>\n",
       "  </tbody>\n",
       "</table>\n",
       "<p>100 rows × 2 columns</p>\n",
       "</div>"
      ],
      "text/plain": [
       "                         title                    artist\n",
       "0               Margaritaville             Jimmy Buffett\n",
       "1                  Come Monday             Jimmy Buffett\n",
       "2   Rich Men North of Richmond      Oliver Anthony Music\n",
       "3                     All Star               Smash Mouth\n",
       "4     Cheeseburger In Paradise             Jimmy Buffett\n",
       "..                         ...                       ...\n",
       "95     Thought You Should Know             Morgan Wallen\n",
       "96                  Dial Drunk  Noah Kahan & Post Malone\n",
       "97             bad idea right?            Olivia Rodrigo\n",
       "98                      august              Taylor Swift\n",
       "99                 Unstoppable                       Sia\n",
       "\n",
       "[100 rows x 2 columns]"
      ]
     },
     "execution_count": 16,
     "metadata": {},
     "output_type": "execute_result"
    }
   ],
   "source": [
    "top100_20230905"
   ]
  },
  {
   "cell_type": "code",
   "execution_count": 17,
   "metadata": {},
   "outputs": [],
   "source": [
    "top100_20230905.to_csv('top100_popvortex_20230905.csv')"
   ]
  },
  {
   "cell_type": "markdown",
   "metadata": {},
   "source": [
    "# Lab | Web Scraping Multiple Pages"
   ]
  },
  {
   "cell_type": "markdown",
   "metadata": {},
   "source": [
    "Expand the project\n",
    "If you're done, you can try to expand the project on your own. Here are a few suggestions:\n",
    "- Find other lists of hot songs on the internet and scrape them too: having a bigger pool of songs will be awesome!\n",
    "- Apply the same logic to other \"groups\" of songs: the best songs from a decade or from a country / culture / language / genre."
   ]
  },
  {
   "cell_type": "code",
   "execution_count": 18,
   "metadata": {},
   "outputs": [],
   "source": [
    "url = \"https://en.wikipedia.org/wiki/List_of_songs_recorded_by_Frank_Sinatra\""
   ]
  },
  {
   "cell_type": "code",
   "execution_count": 19,
   "metadata": {},
   "outputs": [],
   "source": [
    "response = requests.get(url)"
   ]
  },
  {
   "cell_type": "code",
   "execution_count": 20,
   "metadata": {},
   "outputs": [
    {
     "data": {
      "text/plain": [
       "200"
      ]
     },
     "execution_count": 20,
     "metadata": {},
     "output_type": "execute_result"
    }
   ],
   "source": [
    "response.status_code"
   ]
  },
  {
   "cell_type": "code",
   "execution_count": 21,
   "metadata": {},
   "outputs": [],
   "source": [
    "soup = BeautifulSoup(response.content, \"html.parser\")"
   ]
  },
  {
   "cell_type": "markdown",
   "metadata": {},
   "source": [
    "First, we see the data is inside the second table and we find the path inside the table."
   ]
  },
  {
   "cell_type": "code",
   "execution_count": 22,
   "metadata": {},
   "outputs": [],
   "source": [
    "table = soup.select(\"table\")[1]"
   ]
  },
  {
   "cell_type": "code",
   "execution_count": 23,
   "metadata": {},
   "outputs": [],
   "source": [
    "# table.select('tbody > tr > td > a')"
   ]
  },
  {
   "cell_type": "markdown",
   "metadata": {},
   "source": [
    "We loop through the list to obtain the names and then store the new list in a dataframe."
   ]
  },
  {
   "cell_type": "code",
   "execution_count": 24,
   "metadata": {},
   "outputs": [],
   "source": [
    "songs_sinatra = []\n",
    "for e in table.select('tbody > tr > td > a'):\n",
    "    song = e.get_text()\n",
    "    if song is not None:\n",
    "        songs_sinatra.append(e.get_text())"
   ]
  },
  {
   "cell_type": "code",
   "execution_count": 25,
   "metadata": {},
   "outputs": [
    {
     "data": {
      "text/plain": [
       "2356"
      ]
     },
     "execution_count": 25,
     "metadata": {},
     "output_type": "execute_result"
    }
   ],
   "source": [
    "len(songs_sinatra)"
   ]
  },
  {
   "cell_type": "code",
   "execution_count": 26,
   "metadata": {},
   "outputs": [],
   "source": [
    "songs_sinatra = pd.DataFrame({'Sinatra_song': songs_sinatra})"
   ]
  },
  {
   "cell_type": "code",
   "execution_count": 27,
   "metadata": {},
   "outputs": [
    {
     "data": {
      "text/html": [
       "<div>\n",
       "<style scoped>\n",
       "    .dataframe tbody tr th:only-of-type {\n",
       "        vertical-align: middle;\n",
       "    }\n",
       "\n",
       "    .dataframe tbody tr th {\n",
       "        vertical-align: top;\n",
       "    }\n",
       "\n",
       "    .dataframe thead th {\n",
       "        text-align: right;\n",
       "    }\n",
       "</style>\n",
       "<table border=\"1\" class=\"dataframe\">\n",
       "  <thead>\n",
       "    <tr style=\"text-align: right;\">\n",
       "      <th></th>\n",
       "      <th>Sinatra_song</th>\n",
       "    </tr>\n",
       "  </thead>\n",
       "  <tbody>\n",
       "    <tr>\n",
       "      <th>0</th>\n",
       "      <td>Ac-cent-tchu-ate the Positive</td>\n",
       "    </tr>\n",
       "    <tr>\n",
       "      <th>1</th>\n",
       "      <td>Harold Arlen</td>\n",
       "    </tr>\n",
       "    <tr>\n",
       "      <th>2</th>\n",
       "      <td>Johnny Mercer</td>\n",
       "    </tr>\n",
       "    <tr>\n",
       "      <th>3</th>\n",
       "      <td>Johnny Burke</td>\n",
       "    </tr>\n",
       "    <tr>\n",
       "      <th>4</th>\n",
       "      <td>Jimmy Van Heusen</td>\n",
       "    </tr>\n",
       "    <tr>\n",
       "      <th>...</th>\n",
       "      <td>...</td>\n",
       "    </tr>\n",
       "    <tr>\n",
       "      <th>2351</th>\n",
       "      <td>Ludwig Herzer</td>\n",
       "    </tr>\n",
       "    <tr>\n",
       "      <th>2352</th>\n",
       "      <td>Franz Lehár</td>\n",
       "    </tr>\n",
       "    <tr>\n",
       "      <th>2353</th>\n",
       "      <td>Fritz Löhner-Beda</td>\n",
       "    </tr>\n",
       "    <tr>\n",
       "      <th>2354</th>\n",
       "      <td>Zing! Went the Strings of My Heart</td>\n",
       "    </tr>\n",
       "    <tr>\n",
       "      <th>2355</th>\n",
       "      <td>James F. Hanley</td>\n",
       "    </tr>\n",
       "  </tbody>\n",
       "</table>\n",
       "<p>2356 rows × 1 columns</p>\n",
       "</div>"
      ],
      "text/plain": [
       "                            Sinatra_song\n",
       "0          Ac-cent-tchu-ate the Positive\n",
       "1                           Harold Arlen\n",
       "2                          Johnny Mercer\n",
       "3                           Johnny Burke\n",
       "4                       Jimmy Van Heusen\n",
       "...                                  ...\n",
       "2351                       Ludwig Herzer\n",
       "2352                         Franz Lehár\n",
       "2353                   Fritz Löhner-Beda\n",
       "2354  Zing! Went the Strings of My Heart\n",
       "2355                     James F. Hanley\n",
       "\n",
       "[2356 rows x 1 columns]"
      ]
     },
     "execution_count": 27,
     "metadata": {},
     "output_type": "execute_result"
    }
   ],
   "source": [
    "songs_sinatra"
   ]
  },
  {
   "cell_type": "markdown",
   "metadata": {},
   "source": [
    "# GNOD Process Step 2."
   ]
  },
  {
   "cell_type": "code",
   "execution_count": 28,
   "metadata": {},
   "outputs": [],
   "source": [
    "hot = pd.read_csv('top100_popvortex_20230905.csv')"
   ]
  },
  {
   "cell_type": "code",
   "execution_count": 29,
   "metadata": {},
   "outputs": [
    {
     "data": {
      "text/plain": [
       "Unnamed: 0     int64\n",
       "title         object\n",
       "artist        object\n",
       "dtype: object"
      ]
     },
     "execution_count": 29,
     "metadata": {},
     "output_type": "execute_result"
    }
   ],
   "source": [
    "hot.dtypes"
   ]
  },
  {
   "cell_type": "markdown",
   "metadata": {},
   "source": [
    "We ask the user to input a song title."
   ]
  },
  {
   "cell_type": "code",
   "execution_count": 30,
   "metadata": {},
   "outputs": [],
   "source": [
    "input_song = input('Enter a song title: ')"
   ]
  },
  {
   "cell_type": "code",
   "execution_count": 31,
   "metadata": {},
   "outputs": [
    {
     "data": {
      "text/plain": [
       "'Margaritaville'"
      ]
     },
     "execution_count": 31,
     "metadata": {},
     "output_type": "execute_result"
    }
   ],
   "source": [
    "input_song"
   ]
  },
  {
   "cell_type": "code",
   "execution_count": 32,
   "metadata": {},
   "outputs": [
    {
     "data": {
      "text/plain": [
       "str"
      ]
     },
     "execution_count": 32,
     "metadata": {},
     "output_type": "execute_result"
    }
   ],
   "source": [
    "type(input_song)"
   ]
  },
  {
   "cell_type": "code",
   "execution_count": 33,
   "metadata": {},
   "outputs": [
    {
     "data": {
      "text/plain": [
       "'Margaritaville'"
      ]
     },
     "execution_count": 33,
     "metadata": {},
     "output_type": "execute_result"
    }
   ],
   "source": [
    "hot['title'][0]"
   ]
  },
  {
   "cell_type": "markdown",
   "metadata": {},
   "source": [
    "If the title matches a song in our list, we suggest another song from our list."
   ]
  },
  {
   "cell_type": "code",
   "execution_count": 39,
   "metadata": {},
   "outputs": [
    {
     "name": "stdout",
     "output_type": "stream",
     "text": [
      "You could try: White Horse by Chris Stapleton\n"
     ]
    }
   ],
   "source": [
    "from random import randint\n",
    "\n",
    "if input_song in hot['title'].values:\n",
    "    ran = randint(0,len(hot))\n",
    "    print('You could try: ' + hot['title'][ran] + ' by ' + hot['artist'][ran])\n",
    "else:\n",
    "    print('No recommendation at this time')"
   ]
  },
  {
   "cell_type": "markdown",
   "metadata": {},
   "source": [
    "# Lab | API wrappers - Create your collection of songs & audio features."
   ]
  },
  {
   "cell_type": "markdown",
   "metadata": {},
   "source": [
    "#### Authentication."
   ]
  },
  {
   "cell_type": "code",
   "execution_count": 1,
   "metadata": {},
   "outputs": [],
   "source": [
    "import spotipy\n",
    "from spotipy.oauth2 import SpotifyClientCredentials"
   ]
  },
  {
   "cell_type": "code",
   "execution_count": 2,
   "metadata": {},
   "outputs": [],
   "source": [
    "secrets_file = open(\"Spotify.txt\",\"r\")"
   ]
  },
  {
   "cell_type": "code",
   "execution_count": 3,
   "metadata": {},
   "outputs": [],
   "source": [
    "string = secrets_file.read()"
   ]
  },
  {
   "cell_type": "code",
   "execution_count": 4,
   "metadata": {},
   "outputs": [
    {
     "name": "stdout",
     "output_type": "stream",
     "text": [
      "['clientid', '29e4b27d081e4557a46599dcfeacd968']\n",
      "['clientsecret', '543d55c868cb4f7b879ee416d69ec060']\n"
     ]
    }
   ],
   "source": [
    "secrets_dict={}\n",
    "for line in string.split('\\n'):\n",
    "    if len(line) > 0:\n",
    "        print(line.split(':'))\n",
    "        secrets_dict[line.split(':')[0]]=line.split(':')[1].strip()"
   ]
  },
  {
   "cell_type": "code",
   "execution_count": 5,
   "metadata": {},
   "outputs": [],
   "source": [
    "sp = spotipy.Spotify(auth_manager=SpotifyClientCredentials(client_id=secrets_dict['clientid'],\n",
    "                                                           client_secret=secrets_dict['clientsecret']))"
   ]
  },
  {
   "cell_type": "markdown",
   "metadata": {},
   "source": [
    "#### Getting tracks. Spotify playlist chosen: The Longest Playlist Ever (id: 6yPiKpy7evrwvZodByKvM9)."
   ]
  },
  {
   "cell_type": "code",
   "execution_count": 6,
   "metadata": {},
   "outputs": [],
   "source": [
    "from random import randint\n",
    "from time import sleep\n",
    "\n",
    "def get_playlist_tracks(playlist_id):\n",
    "    results = sp.user_playlist_tracks(\"spotify\",playlist_id)\n",
    "    tracks = results['items']\n",
    "    while results['next']!=None:\n",
    "        results = sp.next(results)\n",
    "        tracks = tracks + results['items']\n",
    "        sleep(randint(1,2500)/1000)\n",
    "    return tracks"
   ]
  },
  {
   "cell_type": "code",
   "execution_count": 7,
   "metadata": {},
   "outputs": [
    {
     "data": {
      "text/plain": [
       "10000"
      ]
     },
     "execution_count": 7,
     "metadata": {},
     "output_type": "execute_result"
    }
   ],
   "source": [
    "all_tracks = get_playlist_tracks(\"6yPiKpy7evrwvZodByKvM9\")\n",
    "len(all_tracks)"
   ]
  },
  {
   "cell_type": "code",
   "execution_count": 111,
   "metadata": {},
   "outputs": [],
   "source": [
    "# all_tracks"
   ]
  },
  {
   "cell_type": "code",
   "execution_count": 10,
   "metadata": {},
   "outputs": [],
   "source": [
    "tracks = json_normalize(all_tracks)"
   ]
  },
  {
   "cell_type": "code",
   "execution_count": 110,
   "metadata": {},
   "outputs": [
    {
     "data": {
      "text/html": [
       "<div>\n",
       "<style scoped>\n",
       "    .dataframe tbody tr th:only-of-type {\n",
       "        vertical-align: middle;\n",
       "    }\n",
       "\n",
       "    .dataframe tbody tr th {\n",
       "        vertical-align: top;\n",
       "    }\n",
       "\n",
       "    .dataframe thead th {\n",
       "        text-align: right;\n",
       "    }\n",
       "</style>\n",
       "<table border=\"1\" class=\"dataframe\">\n",
       "  <thead>\n",
       "    <tr style=\"text-align: right;\">\n",
       "      <th></th>\n",
       "      <th>added_at</th>\n",
       "      <th>is_local</th>\n",
       "      <th>primary_color</th>\n",
       "      <th>added_by.external_urls.spotify</th>\n",
       "      <th>added_by.href</th>\n",
       "      <th>added_by.id</th>\n",
       "      <th>added_by.type</th>\n",
       "      <th>added_by.uri</th>\n",
       "      <th>track.album.album_type</th>\n",
       "      <th>track.album.artists</th>\n",
       "      <th>...</th>\n",
       "      <th>track.name</th>\n",
       "      <th>track.popularity</th>\n",
       "      <th>track.preview_url</th>\n",
       "      <th>track.track</th>\n",
       "      <th>track.track_number</th>\n",
       "      <th>track.type</th>\n",
       "      <th>track.uri</th>\n",
       "      <th>video_thumbnail.url</th>\n",
       "      <th>artist_dict</th>\n",
       "      <th>artists_dfs</th>\n",
       "    </tr>\n",
       "  </thead>\n",
       "  <tbody>\n",
       "    <tr>\n",
       "      <th>0</th>\n",
       "      <td>2017-02-27T01:38:09Z</td>\n",
       "      <td>False</td>\n",
       "      <td>None</td>\n",
       "      <td>https://open.spotify.com/user/12160726861</td>\n",
       "      <td>https://api.spotify.com/v1/users/12160726861</td>\n",
       "      <td>12160726861</td>\n",
       "      <td>user</td>\n",
       "      <td>spotify:user:12160726861</td>\n",
       "      <td>album</td>\n",
       "      <td>[{'external_urls': {'spotify': 'https://open.s...</td>\n",
       "      <td>...</td>\n",
       "      <td>2K</td>\n",
       "      <td>0</td>\n",
       "      <td>None</td>\n",
       "      <td>True</td>\n",
       "      <td>17</td>\n",
       "      <td>track</td>\n",
       "      <td>spotify:track:33xMbeHzmWd6Od0BmLZEUs</td>\n",
       "      <td>None</td>\n",
       "      <td>{0: {'external_urls': {'spotify': 'https://ope...</td>\n",
       "      <td>externa...</td>\n",
       "    </tr>\n",
       "    <tr>\n",
       "      <th>1</th>\n",
       "      <td>2017-02-27T01:38:09Z</td>\n",
       "      <td>False</td>\n",
       "      <td>None</td>\n",
       "      <td>https://open.spotify.com/user/12160726861</td>\n",
       "      <td>https://api.spotify.com/v1/users/12160726861</td>\n",
       "      <td>12160726861</td>\n",
       "      <td>user</td>\n",
       "      <td>spotify:user:12160726861</td>\n",
       "      <td>album</td>\n",
       "      <td>[{'external_urls': {'spotify': 'https://open.s...</td>\n",
       "      <td>...</td>\n",
       "      <td>4 Billion Souls</td>\n",
       "      <td>25</td>\n",
       "      <td>https://p.scdn.co/mp3-preview/d6645e0eeb0f6849...</td>\n",
       "      <td>True</td>\n",
       "      <td>2</td>\n",
       "      <td>track</td>\n",
       "      <td>spotify:track:3UnyplmZaq547hwsfOR5yy</td>\n",
       "      <td>None</td>\n",
       "      <td>{0: {'external_urls': {'spotify': 'https://ope...</td>\n",
       "      <td>externa...</td>\n",
       "    </tr>\n",
       "    <tr>\n",
       "      <th>2</th>\n",
       "      <td>2017-02-27T01:38:09Z</td>\n",
       "      <td>False</td>\n",
       "      <td>None</td>\n",
       "      <td>https://open.spotify.com/user/12160726861</td>\n",
       "      <td>https://api.spotify.com/v1/users/12160726861</td>\n",
       "      <td>12160726861</td>\n",
       "      <td>user</td>\n",
       "      <td>spotify:user:12160726861</td>\n",
       "      <td>album</td>\n",
       "      <td>[{'external_urls': {'spotify': 'https://open.s...</td>\n",
       "      <td>...</td>\n",
       "      <td>4 Minute Warning</td>\n",
       "      <td>0</td>\n",
       "      <td>None</td>\n",
       "      <td>True</td>\n",
       "      <td>8</td>\n",
       "      <td>track</td>\n",
       "      <td>spotify:track:1w8QCSDH4QobcQeT4uMKLm</td>\n",
       "      <td>None</td>\n",
       "      <td>{0: {'external_urls': {'spotify': 'https://ope...</td>\n",
       "      <td>externa...</td>\n",
       "    </tr>\n",
       "  </tbody>\n",
       "</table>\n",
       "<p>3 rows × 42 columns</p>\n",
       "</div>"
      ],
      "text/plain": [
       "               added_at  is_local primary_color  \\\n",
       "0  2017-02-27T01:38:09Z     False          None   \n",
       "1  2017-02-27T01:38:09Z     False          None   \n",
       "2  2017-02-27T01:38:09Z     False          None   \n",
       "\n",
       "              added_by.external_urls.spotify  \\\n",
       "0  https://open.spotify.com/user/12160726861   \n",
       "1  https://open.spotify.com/user/12160726861   \n",
       "2  https://open.spotify.com/user/12160726861   \n",
       "\n",
       "                                  added_by.href  added_by.id added_by.type  \\\n",
       "0  https://api.spotify.com/v1/users/12160726861  12160726861          user   \n",
       "1  https://api.spotify.com/v1/users/12160726861  12160726861          user   \n",
       "2  https://api.spotify.com/v1/users/12160726861  12160726861          user   \n",
       "\n",
       "               added_by.uri track.album.album_type  \\\n",
       "0  spotify:user:12160726861                  album   \n",
       "1  spotify:user:12160726861                  album   \n",
       "2  spotify:user:12160726861                  album   \n",
       "\n",
       "                                 track.album.artists  ...        track.name  \\\n",
       "0  [{'external_urls': {'spotify': 'https://open.s...  ...                2K   \n",
       "1  [{'external_urls': {'spotify': 'https://open.s...  ...   4 Billion Souls   \n",
       "2  [{'external_urls': {'spotify': 'https://open.s...  ...  4 Minute Warning   \n",
       "\n",
       "  track.popularity                                  track.preview_url  \\\n",
       "0                0                                               None   \n",
       "1               25  https://p.scdn.co/mp3-preview/d6645e0eeb0f6849...   \n",
       "2                0                                               None   \n",
       "\n",
       "  track.track track.track_number track.type  \\\n",
       "0        True                 17      track   \n",
       "1        True                  2      track   \n",
       "2        True                  8      track   \n",
       "\n",
       "                              track.uri video_thumbnail.url  \\\n",
       "0  spotify:track:33xMbeHzmWd6Od0BmLZEUs                None   \n",
       "1  spotify:track:3UnyplmZaq547hwsfOR5yy                None   \n",
       "2  spotify:track:1w8QCSDH4QobcQeT4uMKLm                None   \n",
       "\n",
       "                                         artist_dict  \\\n",
       "0  {0: {'external_urls': {'spotify': 'https://ope...   \n",
       "1  {0: {'external_urls': {'spotify': 'https://ope...   \n",
       "2  {0: {'external_urls': {'spotify': 'https://ope...   \n",
       "\n",
       "                                         artists_dfs  \n",
       "0                                         externa...  \n",
       "1                                         externa...  \n",
       "2                                         externa...  \n",
       "\n",
       "[3 rows x 42 columns]"
      ]
     },
     "execution_count": 110,
     "metadata": {},
     "output_type": "execute_result"
    }
   ],
   "source": [
    "tracks.head(3)"
   ]
  },
  {
   "cell_type": "code",
   "execution_count": 160,
   "metadata": {},
   "outputs": [],
   "source": [
    "# tracks.isna().sum()"
   ]
  },
  {
   "cell_type": "markdown",
   "metadata": {},
   "source": [
    "Removing duplicate track ids."
   ]
  },
  {
   "cell_type": "code",
   "execution_count": 13,
   "metadata": {},
   "outputs": [],
   "source": [
    "tracks = tracks[tracks['track.id'].isna() == False]"
   ]
  },
  {
   "cell_type": "code",
   "execution_count": 14,
   "metadata": {},
   "outputs": [
    {
     "data": {
      "text/plain": [
       "9918"
      ]
     },
     "execution_count": 14,
     "metadata": {},
     "output_type": "execute_result"
    }
   ],
   "source": [
    "len(tracks)"
   ]
  },
  {
   "cell_type": "code",
   "execution_count": 109,
   "metadata": {},
   "outputs": [],
   "source": [
    "# tracks"
   ]
  },
  {
   "cell_type": "markdown",
   "metadata": {},
   "source": [
    "Converting artist lists of each track to dictionaries."
   ]
  },
  {
   "cell_type": "code",
   "execution_count": 15,
   "metadata": {},
   "outputs": [],
   "source": [
    "def list_to_dict(x):\n",
    "    return {i: x[i] for i in range(len(x))}"
   ]
  },
  {
   "cell_type": "code",
   "execution_count": 113,
   "metadata": {},
   "outputs": [
    {
     "data": {
      "text/html": [
       "<div>\n",
       "<style scoped>\n",
       "    .dataframe tbody tr th:only-of-type {\n",
       "        vertical-align: middle;\n",
       "    }\n",
       "\n",
       "    .dataframe tbody tr th {\n",
       "        vertical-align: top;\n",
       "    }\n",
       "\n",
       "    .dataframe thead th {\n",
       "        text-align: right;\n",
       "    }\n",
       "</style>\n",
       "<table border=\"1\" class=\"dataframe\">\n",
       "  <thead>\n",
       "    <tr style=\"text-align: right;\">\n",
       "      <th></th>\n",
       "      <th>added_at</th>\n",
       "      <th>is_local</th>\n",
       "      <th>primary_color</th>\n",
       "      <th>added_by.external_urls.spotify</th>\n",
       "      <th>added_by.href</th>\n",
       "      <th>added_by.id</th>\n",
       "      <th>added_by.type</th>\n",
       "      <th>added_by.uri</th>\n",
       "      <th>track.album.album_type</th>\n",
       "      <th>track.album.artists</th>\n",
       "      <th>...</th>\n",
       "      <th>track.name</th>\n",
       "      <th>track.popularity</th>\n",
       "      <th>track.preview_url</th>\n",
       "      <th>track.track</th>\n",
       "      <th>track.track_number</th>\n",
       "      <th>track.type</th>\n",
       "      <th>track.uri</th>\n",
       "      <th>video_thumbnail.url</th>\n",
       "      <th>artist_dict</th>\n",
       "      <th>artists_dfs</th>\n",
       "    </tr>\n",
       "  </thead>\n",
       "  <tbody>\n",
       "    <tr>\n",
       "      <th>0</th>\n",
       "      <td>2017-02-27T01:38:09Z</td>\n",
       "      <td>False</td>\n",
       "      <td>None</td>\n",
       "      <td>https://open.spotify.com/user/12160726861</td>\n",
       "      <td>https://api.spotify.com/v1/users/12160726861</td>\n",
       "      <td>12160726861</td>\n",
       "      <td>user</td>\n",
       "      <td>spotify:user:12160726861</td>\n",
       "      <td>album</td>\n",
       "      <td>[{'external_urls': {'spotify': 'https://open.s...</td>\n",
       "      <td>...</td>\n",
       "      <td>2K</td>\n",
       "      <td>0</td>\n",
       "      <td>None</td>\n",
       "      <td>True</td>\n",
       "      <td>17</td>\n",
       "      <td>track</td>\n",
       "      <td>spotify:track:33xMbeHzmWd6Od0BmLZEUs</td>\n",
       "      <td>None</td>\n",
       "      <td>{0: {'external_urls': {'spotify': 'https://ope...</td>\n",
       "      <td>externa...</td>\n",
       "    </tr>\n",
       "    <tr>\n",
       "      <th>1</th>\n",
       "      <td>2017-02-27T01:38:09Z</td>\n",
       "      <td>False</td>\n",
       "      <td>None</td>\n",
       "      <td>https://open.spotify.com/user/12160726861</td>\n",
       "      <td>https://api.spotify.com/v1/users/12160726861</td>\n",
       "      <td>12160726861</td>\n",
       "      <td>user</td>\n",
       "      <td>spotify:user:12160726861</td>\n",
       "      <td>album</td>\n",
       "      <td>[{'external_urls': {'spotify': 'https://open.s...</td>\n",
       "      <td>...</td>\n",
       "      <td>4 Billion Souls</td>\n",
       "      <td>25</td>\n",
       "      <td>https://p.scdn.co/mp3-preview/d6645e0eeb0f6849...</td>\n",
       "      <td>True</td>\n",
       "      <td>2</td>\n",
       "      <td>track</td>\n",
       "      <td>spotify:track:3UnyplmZaq547hwsfOR5yy</td>\n",
       "      <td>None</td>\n",
       "      <td>{0: {'external_urls': {'spotify': 'https://ope...</td>\n",
       "      <td>externa...</td>\n",
       "    </tr>\n",
       "    <tr>\n",
       "      <th>2</th>\n",
       "      <td>2017-02-27T01:38:09Z</td>\n",
       "      <td>False</td>\n",
       "      <td>None</td>\n",
       "      <td>https://open.spotify.com/user/12160726861</td>\n",
       "      <td>https://api.spotify.com/v1/users/12160726861</td>\n",
       "      <td>12160726861</td>\n",
       "      <td>user</td>\n",
       "      <td>spotify:user:12160726861</td>\n",
       "      <td>album</td>\n",
       "      <td>[{'external_urls': {'spotify': 'https://open.s...</td>\n",
       "      <td>...</td>\n",
       "      <td>4 Minute Warning</td>\n",
       "      <td>0</td>\n",
       "      <td>None</td>\n",
       "      <td>True</td>\n",
       "      <td>8</td>\n",
       "      <td>track</td>\n",
       "      <td>spotify:track:1w8QCSDH4QobcQeT4uMKLm</td>\n",
       "      <td>None</td>\n",
       "      <td>{0: {'external_urls': {'spotify': 'https://ope...</td>\n",
       "      <td>externa...</td>\n",
       "    </tr>\n",
       "  </tbody>\n",
       "</table>\n",
       "<p>3 rows × 42 columns</p>\n",
       "</div>"
      ],
      "text/plain": [
       "               added_at  is_local primary_color  \\\n",
       "0  2017-02-27T01:38:09Z     False          None   \n",
       "1  2017-02-27T01:38:09Z     False          None   \n",
       "2  2017-02-27T01:38:09Z     False          None   \n",
       "\n",
       "              added_by.external_urls.spotify  \\\n",
       "0  https://open.spotify.com/user/12160726861   \n",
       "1  https://open.spotify.com/user/12160726861   \n",
       "2  https://open.spotify.com/user/12160726861   \n",
       "\n",
       "                                  added_by.href  added_by.id added_by.type  \\\n",
       "0  https://api.spotify.com/v1/users/12160726861  12160726861          user   \n",
       "1  https://api.spotify.com/v1/users/12160726861  12160726861          user   \n",
       "2  https://api.spotify.com/v1/users/12160726861  12160726861          user   \n",
       "\n",
       "               added_by.uri track.album.album_type  \\\n",
       "0  spotify:user:12160726861                  album   \n",
       "1  spotify:user:12160726861                  album   \n",
       "2  spotify:user:12160726861                  album   \n",
       "\n",
       "                                 track.album.artists  ...        track.name  \\\n",
       "0  [{'external_urls': {'spotify': 'https://open.s...  ...                2K   \n",
       "1  [{'external_urls': {'spotify': 'https://open.s...  ...   4 Billion Souls   \n",
       "2  [{'external_urls': {'spotify': 'https://open.s...  ...  4 Minute Warning   \n",
       "\n",
       "  track.popularity                                  track.preview_url  \\\n",
       "0                0                                               None   \n",
       "1               25  https://p.scdn.co/mp3-preview/d6645e0eeb0f6849...   \n",
       "2                0                                               None   \n",
       "\n",
       "  track.track track.track_number track.type  \\\n",
       "0        True                 17      track   \n",
       "1        True                  2      track   \n",
       "2        True                  8      track   \n",
       "\n",
       "                              track.uri video_thumbnail.url  \\\n",
       "0  spotify:track:33xMbeHzmWd6Od0BmLZEUs                None   \n",
       "1  spotify:track:3UnyplmZaq547hwsfOR5yy                None   \n",
       "2  spotify:track:1w8QCSDH4QobcQeT4uMKLm                None   \n",
       "\n",
       "                                         artist_dict  \\\n",
       "0  {0: {'external_urls': {'spotify': 'https://ope...   \n",
       "1  {0: {'external_urls': {'spotify': 'https://ope...   \n",
       "2  {0: {'external_urls': {'spotify': 'https://ope...   \n",
       "\n",
       "                                         artists_dfs  \n",
       "0                                         externa...  \n",
       "1                                         externa...  \n",
       "2                                         externa...  \n",
       "\n",
       "[3 rows x 42 columns]"
      ]
     },
     "execution_count": 113,
     "metadata": {},
     "output_type": "execute_result"
    }
   ],
   "source": [
    "tracks['artist_dict'] = tracks['track.artists'].apply(list_to_dict)\n",
    "tracks.head(3)"
   ]
  },
  {
   "cell_type": "code",
   "execution_count": 112,
   "metadata": {},
   "outputs": [],
   "source": [
    "# tracks['artist_dict']"
   ]
  },
  {
   "cell_type": "markdown",
   "metadata": {},
   "source": [
    "Converting artist dicts of each track to dataframes."
   ]
  },
  {
   "cell_type": "code",
   "execution_count": 18,
   "metadata": {},
   "outputs": [
    {
     "data": {
      "text/plain": [
       "pandas.core.frame.DataFrame"
      ]
     },
     "execution_count": 18,
     "metadata": {},
     "output_type": "execute_result"
    }
   ],
   "source": [
    "def expand_list_dict(row):\n",
    "    df = pd.DataFrame.from_dict(row['artist_dict'], orient='index')\n",
    "    df['song_id'] = row['track.id']\n",
    "    return df\n",
    "\n",
    "tracks['artists_dfs'] = tracks.apply(expand_list_dict, axis=1)\n",
    "type(tracks['artists_dfs'][0])"
   ]
  },
  {
   "cell_type": "code",
   "execution_count": 19,
   "metadata": {},
   "outputs": [
    {
     "data": {
      "text/html": [
       "<div>\n",
       "<style scoped>\n",
       "    .dataframe tbody tr th:only-of-type {\n",
       "        vertical-align: middle;\n",
       "    }\n",
       "\n",
       "    .dataframe tbody tr th {\n",
       "        vertical-align: top;\n",
       "    }\n",
       "\n",
       "    .dataframe thead th {\n",
       "        text-align: right;\n",
       "    }\n",
       "</style>\n",
       "<table border=\"1\" class=\"dataframe\">\n",
       "  <thead>\n",
       "    <tr style=\"text-align: right;\">\n",
       "      <th></th>\n",
       "      <th>external_urls</th>\n",
       "      <th>href</th>\n",
       "      <th>id</th>\n",
       "      <th>name</th>\n",
       "      <th>type</th>\n",
       "      <th>uri</th>\n",
       "      <th>song_id</th>\n",
       "    </tr>\n",
       "  </thead>\n",
       "  <tbody>\n",
       "    <tr>\n",
       "      <th>0</th>\n",
       "      <td>{'spotify': 'https://open.spotify.com/artist/0...</td>\n",
       "      <td>https://api.spotify.com/v1/artists/0IVapwlnM3d...</td>\n",
       "      <td>0IVapwlnM3dEOiMsHXsghT</td>\n",
       "      <td>Nosaj Thing</td>\n",
       "      <td>artist</td>\n",
       "      <td>spotify:artist:0IVapwlnM3dEOiMsHXsghT</td>\n",
       "      <td>33xMbeHzmWd6Od0BmLZEUs</td>\n",
       "    </tr>\n",
       "  </tbody>\n",
       "</table>\n",
       "</div>"
      ],
      "text/plain": [
       "                                       external_urls  \\\n",
       "0  {'spotify': 'https://open.spotify.com/artist/0...   \n",
       "\n",
       "                                                href                      id  \\\n",
       "0  https://api.spotify.com/v1/artists/0IVapwlnM3d...  0IVapwlnM3dEOiMsHXsghT   \n",
       "\n",
       "          name    type                                    uri  \\\n",
       "0  Nosaj Thing  artist  spotify:artist:0IVapwlnM3dEOiMsHXsghT   \n",
       "\n",
       "                  song_id  \n",
       "0  33xMbeHzmWd6Od0BmLZEUs  "
      ]
     },
     "execution_count": 19,
     "metadata": {},
     "output_type": "execute_result"
    }
   ],
   "source": [
    "tracks['artists_dfs'][0]"
   ]
  },
  {
   "cell_type": "code",
   "execution_count": 114,
   "metadata": {},
   "outputs": [],
   "source": [
    "artist_df = pd.DataFrame(columns=['external_urls', 'href', 'id', 'name', 'type', 'uri', 'song_id'])\n",
    "for mini_df in tracks['artists_dfs']:\n",
    "    artist_df = pd.concat([artist_df, mini_df], axis=0)"
   ]
  },
  {
   "cell_type": "code",
   "execution_count": 117,
   "metadata": {},
   "outputs": [],
   "source": [
    "# artist_df"
   ]
  },
  {
   "cell_type": "code",
   "execution_count": 118,
   "metadata": {},
   "outputs": [],
   "source": [
    "df_merged = pd.merge(left=tracks,\n",
    "                    right=artist_df,\n",
    "                    how='inner',\n",
    "                    left_on='track.id',\n",
    "                    right_on='song_id')"
   ]
  },
  {
   "cell_type": "code",
   "execution_count": 119,
   "metadata": {},
   "outputs": [],
   "source": [
    "df1 = df_merged[['track.name', 'song_id', 'name', 'id']]"
   ]
  },
  {
   "cell_type": "code",
   "execution_count": 120,
   "metadata": {},
   "outputs": [
    {
     "data": {
      "text/plain": [
       "(11869, 4)"
      ]
     },
     "execution_count": 120,
     "metadata": {},
     "output_type": "execute_result"
    }
   ],
   "source": [
    "df1.shape"
   ]
  },
  {
   "cell_type": "code",
   "execution_count": 121,
   "metadata": {},
   "outputs": [
    {
     "data": {
      "text/plain": [
       "track.name    0\n",
       "song_id       0\n",
       "name          0\n",
       "id            0\n",
       "dtype: int64"
      ]
     },
     "execution_count": 121,
     "metadata": {},
     "output_type": "execute_result"
    }
   ],
   "source": [
    "df1.isna().sum()"
   ]
  },
  {
   "cell_type": "code",
   "execution_count": 122,
   "metadata": {},
   "outputs": [],
   "source": [
    "# df1['name'].value_counts()"
   ]
  },
  {
   "cell_type": "code",
   "execution_count": 123,
   "metadata": {},
   "outputs": [],
   "source": [
    "# df1['song_id'].value_counts()"
   ]
  },
  {
   "cell_type": "markdown",
   "metadata": {},
   "source": [
    "#### Getting audio features."
   ]
  },
  {
   "cell_type": "code",
   "execution_count": 131,
   "metadata": {},
   "outputs": [
    {
     "data": {
      "text/plain": [
       "11869"
      ]
     },
     "execution_count": 131,
     "metadata": {},
     "output_type": "execute_result"
    }
   ],
   "source": [
    "chunks = [(i, i+100) for i in range(0, len(df1), 100)]\n",
    "audio_features_list = []\n",
    "for chunk in chunks:\n",
    "    id_list100 = df1['song_id'][chunk[0]:chunk[1]]\n",
    "    # id_list100 = [id for id in id_list100 if id is not None]\n",
    "    audio_features_list = audio_features_list + sp.audio_features(id_list100)\n",
    "    sleep(randint(1,2500)/1000)\n",
    "len(audio_features_list)"
   ]
  },
  {
   "cell_type": "code",
   "execution_count": 126,
   "metadata": {},
   "outputs": [],
   "source": [
    "# audio_features_list"
   ]
  },
  {
   "cell_type": "code",
   "execution_count": 132,
   "metadata": {},
   "outputs": [],
   "source": [
    "audio_features_df = json_normalize(audio_features_list)"
   ]
  },
  {
   "cell_type": "code",
   "execution_count": 133,
   "metadata": {},
   "outputs": [
    {
     "data": {
      "text/plain": [
       "11869"
      ]
     },
     "execution_count": 133,
     "metadata": {},
     "output_type": "execute_result"
    }
   ],
   "source": [
    "len(df1)"
   ]
  },
  {
   "cell_type": "code",
   "execution_count": 134,
   "metadata": {},
   "outputs": [],
   "source": [
    "audio_features_df2 = audio_features_df.drop_duplicates()"
   ]
  },
  {
   "cell_type": "code",
   "execution_count": 135,
   "metadata": {},
   "outputs": [
    {
     "data": {
      "text/plain": [
       "9894"
      ]
     },
     "execution_count": 135,
     "metadata": {},
     "output_type": "execute_result"
    }
   ],
   "source": [
    "len(audio_features_df2)"
   ]
  },
  {
   "cell_type": "code",
   "execution_count": 136,
   "metadata": {},
   "outputs": [],
   "source": [
    "df_audio_ft = pd.merge(left=df1,\n",
    "                        right=audio_features_df2,\n",
    "                        how='inner',\n",
    "                        left_on='song_id',\n",
    "                        right_on='id')"
   ]
  },
  {
   "cell_type": "code",
   "execution_count": 137,
   "metadata": {},
   "outputs": [
    {
     "data": {
      "text/plain": [
       "11869"
      ]
     },
     "execution_count": 137,
     "metadata": {},
     "output_type": "execute_result"
    }
   ],
   "source": [
    "len(df_audio_ft)"
   ]
  },
  {
   "cell_type": "markdown",
   "metadata": {},
   "source": [
    "#### We could try to expand it, obtaining the top10 songs in GB for each artist (example with the first artist id)."
   ]
  },
  {
   "cell_type": "code",
   "execution_count": 142,
   "metadata": {},
   "outputs": [],
   "source": [
    "tracks_t = sp.artist_top_tracks('0IVapwlnM3dEOiMsHXsghT', country='GB')"
   ]
  },
  {
   "cell_type": "code",
   "execution_count": 141,
   "metadata": {},
   "outputs": [],
   "source": [
    "# tracks_t"
   ]
  },
  {
   "cell_type": "code",
   "execution_count": 145,
   "metadata": {},
   "outputs": [],
   "source": [
    "tracks_t = json_normalize(tracks_t['tracks'])"
   ]
  },
  {
   "cell_type": "code",
   "execution_count": null,
   "metadata": {},
   "outputs": [],
   "source": [
    "# tracks_t"
   ]
  },
  {
   "cell_type": "code",
   "execution_count": 143,
   "metadata": {},
   "outputs": [],
   "source": [
    "# tracks_t.columns"
   ]
  },
  {
   "cell_type": "code",
   "execution_count": null,
   "metadata": {},
   "outputs": [],
   "source": [
    "# tracks_t['id']"
   ]
  },
  {
   "cell_type": "code",
   "execution_count": null,
   "metadata": {},
   "outputs": [],
   "source": [
    "# tracks_t['artists'][1]"
   ]
  },
  {
   "cell_type": "code",
   "execution_count": null,
   "metadata": {},
   "outputs": [
    {
     "data": {
      "text/plain": [
       "pandas.core.series.Series"
      ]
     },
     "metadata": {},
     "output_type": "display_data"
    }
   ],
   "source": [
    "type(tracks_t['artists'])"
   ]
  },
  {
   "cell_type": "code",
   "execution_count": 146,
   "metadata": {},
   "outputs": [],
   "source": [
    "tracks_t['artist_dict'] = tracks_t['artists'].apply(list_to_dict)"
   ]
  },
  {
   "cell_type": "code",
   "execution_count": 147,
   "metadata": {},
   "outputs": [],
   "source": [
    "def expand_artist_dict(row):\n",
    "    df = pd.DataFrame.from_dict(row['artist_dict'], orient='index')\n",
    "    df['song_id'] = row['id']\n",
    "    return df\n",
    "\n",
    "tracks_t['artists_dfs'] = tracks_t.apply(expand_artist_dict, axis=1)"
   ]
  },
  {
   "cell_type": "code",
   "execution_count": 148,
   "metadata": {},
   "outputs": [
    {
     "data": {
      "text/plain": [
       "pandas.core.frame.DataFrame"
      ]
     },
     "execution_count": 148,
     "metadata": {},
     "output_type": "execute_result"
    }
   ],
   "source": [
    "type(tracks_t['artists_dfs'][0])"
   ]
  },
  {
   "cell_type": "code",
   "execution_count": 150,
   "metadata": {},
   "outputs": [],
   "source": [
    "# tracks_t['artists_dfs'][0]"
   ]
  },
  {
   "cell_type": "code",
   "execution_count": 151,
   "metadata": {},
   "outputs": [],
   "source": [
    "artist_df_t = pd.DataFrame(columns=['external_urls', 'href', 'id', 'name', 'type', 'uri', 'song_id'])\n",
    "for mini_df in tracks_t['artists_dfs']:\n",
    "    artist_df_t = pd.concat([artist_df_t, mini_df], axis=0)"
   ]
  },
  {
   "cell_type": "code",
   "execution_count": 152,
   "metadata": {},
   "outputs": [],
   "source": [
    "# artist_df_t"
   ]
  },
  {
   "cell_type": "code",
   "execution_count": 153,
   "metadata": {},
   "outputs": [],
   "source": [
    "df_merged_t = pd.merge(left=tracks_t,\n",
    "                    right=artist_df_t,\n",
    "                    how='inner',\n",
    "                    left_on='id',\n",
    "                    right_on='song_id')"
   ]
  },
  {
   "cell_type": "code",
   "execution_count": 154,
   "metadata": {},
   "outputs": [],
   "source": [
    "# df_merged_t"
   ]
  },
  {
   "cell_type": "code",
   "execution_count": 155,
   "metadata": {},
   "outputs": [],
   "source": [
    "df1_t = df_merged_t[['name_x', 'name_y', 'song_id']]"
   ]
  },
  {
   "cell_type": "code",
   "execution_count": 156,
   "metadata": {},
   "outputs": [
    {
     "data": {
      "text/html": [
       "<div>\n",
       "<style scoped>\n",
       "    .dataframe tbody tr th:only-of-type {\n",
       "        vertical-align: middle;\n",
       "    }\n",
       "\n",
       "    .dataframe tbody tr th {\n",
       "        vertical-align: top;\n",
       "    }\n",
       "\n",
       "    .dataframe thead th {\n",
       "        text-align: right;\n",
       "    }\n",
       "</style>\n",
       "<table border=\"1\" class=\"dataframe\">\n",
       "  <thead>\n",
       "    <tr style=\"text-align: right;\">\n",
       "      <th></th>\n",
       "      <th>name_x</th>\n",
       "      <th>name_y</th>\n",
       "      <th>song_id</th>\n",
       "    </tr>\n",
       "  </thead>\n",
       "  <tbody>\n",
       "    <tr>\n",
       "      <th>0</th>\n",
       "      <td>Aquarium</td>\n",
       "      <td>Nosaj Thing</td>\n",
       "      <td>4ZOv9mx6Lz7RRaBFi5UNaE</td>\n",
       "    </tr>\n",
       "    <tr>\n",
       "      <th>1</th>\n",
       "      <td>Blue Hour</td>\n",
       "      <td>Nosaj Thing</td>\n",
       "      <td>6f9BnONLZr0rpB5thUzzlW</td>\n",
       "    </tr>\n",
       "    <tr>\n",
       "      <th>2</th>\n",
       "      <td>Blue Hour</td>\n",
       "      <td>Julianna Barwick</td>\n",
       "      <td>6f9BnONLZr0rpB5thUzzlW</td>\n",
       "    </tr>\n",
       "    <tr>\n",
       "      <th>3</th>\n",
       "      <td>Too Close</td>\n",
       "      <td>Nosaj Thing</td>\n",
       "      <td>0FlYCmQM5q3TcdvwRT53Tt</td>\n",
       "    </tr>\n",
       "    <tr>\n",
       "      <th>4</th>\n",
       "      <td>Too Close</td>\n",
       "      <td>Jacques Greene</td>\n",
       "      <td>0FlYCmQM5q3TcdvwRT53Tt</td>\n",
       "    </tr>\n",
       "    <tr>\n",
       "      <th>5</th>\n",
       "      <td>Too Close</td>\n",
       "      <td>Ouri</td>\n",
       "      <td>0FlYCmQM5q3TcdvwRT53Tt</td>\n",
       "    </tr>\n",
       "    <tr>\n",
       "      <th>6</th>\n",
       "      <td>CLOUDS</td>\n",
       "      <td>박혜진 Park Hye Jin</td>\n",
       "      <td>11dTnaie5BRo7EFXuVARSy</td>\n",
       "    </tr>\n",
       "    <tr>\n",
       "      <th>7</th>\n",
       "      <td>CLOUDS</td>\n",
       "      <td>Nosaj Thing</td>\n",
       "      <td>11dTnaie5BRo7EFXuVARSy</td>\n",
       "    </tr>\n",
       "    <tr>\n",
       "      <th>8</th>\n",
       "      <td>In Your Eyes (feat. Charlotte Day Wilson) [Nos...</td>\n",
       "      <td>BADBADNOTGOOD</td>\n",
       "      <td>28atUbzCFihH4GA3dU1gVM</td>\n",
       "    </tr>\n",
       "    <tr>\n",
       "      <th>9</th>\n",
       "      <td>In Your Eyes (feat. Charlotte Day Wilson) [Nos...</td>\n",
       "      <td>Charlotte Day Wilson</td>\n",
       "      <td>28atUbzCFihH4GA3dU1gVM</td>\n",
       "    </tr>\n",
       "    <tr>\n",
       "      <th>10</th>\n",
       "      <td>In Your Eyes (feat. Charlotte Day Wilson) [Nos...</td>\n",
       "      <td>Nosaj Thing</td>\n",
       "      <td>28atUbzCFihH4GA3dU1gVM</td>\n",
       "    </tr>\n",
       "    <tr>\n",
       "      <th>11</th>\n",
       "      <td>Condition</td>\n",
       "      <td>Nosaj Thing</td>\n",
       "      <td>6FmA0C7U8o7U4LvvyuV5wP</td>\n",
       "    </tr>\n",
       "    <tr>\n",
       "      <th>12</th>\n",
       "      <td>Condition</td>\n",
       "      <td>Toro y Moi</td>\n",
       "      <td>6FmA0C7U8o7U4LvvyuV5wP</td>\n",
       "    </tr>\n",
       "    <tr>\n",
       "      <th>13</th>\n",
       "      <td>Mountain</td>\n",
       "      <td>Nosaj Thing</td>\n",
       "      <td>1th4PAEaEQEV0NWAFfwWvv</td>\n",
       "    </tr>\n",
       "    <tr>\n",
       "      <th>14</th>\n",
       "      <td>Quest</td>\n",
       "      <td>Nosaj Thing</td>\n",
       "      <td>2qwodiatOOWAFFqwZkN439</td>\n",
       "    </tr>\n",
       "    <tr>\n",
       "      <th>15</th>\n",
       "      <td>Nightcrawler</td>\n",
       "      <td>Nosaj Thing</td>\n",
       "      <td>2qjPTOzkXdR32LF9udVEdl</td>\n",
       "    </tr>\n",
       "    <tr>\n",
       "      <th>16</th>\n",
       "      <td>Nod</td>\n",
       "      <td>Julianna Barwick</td>\n",
       "      <td>3yrhTQ3lv4axr8VIjQkFX8</td>\n",
       "    </tr>\n",
       "    <tr>\n",
       "      <th>17</th>\n",
       "      <td>Nod</td>\n",
       "      <td>Nosaj Thing</td>\n",
       "      <td>3yrhTQ3lv4axr8VIjQkFX8</td>\n",
       "    </tr>\n",
       "  </tbody>\n",
       "</table>\n",
       "</div>"
      ],
      "text/plain": [
       "                                               name_x                name_y  \\\n",
       "0                                            Aquarium           Nosaj Thing   \n",
       "1                                           Blue Hour           Nosaj Thing   \n",
       "2                                           Blue Hour      Julianna Barwick   \n",
       "3                                           Too Close           Nosaj Thing   \n",
       "4                                           Too Close        Jacques Greene   \n",
       "5                                           Too Close                  Ouri   \n",
       "6                                              CLOUDS      박혜진 Park Hye Jin   \n",
       "7                                              CLOUDS           Nosaj Thing   \n",
       "8   In Your Eyes (feat. Charlotte Day Wilson) [Nos...         BADBADNOTGOOD   \n",
       "9   In Your Eyes (feat. Charlotte Day Wilson) [Nos...  Charlotte Day Wilson   \n",
       "10  In Your Eyes (feat. Charlotte Day Wilson) [Nos...           Nosaj Thing   \n",
       "11                                          Condition           Nosaj Thing   \n",
       "12                                          Condition            Toro y Moi   \n",
       "13                                           Mountain           Nosaj Thing   \n",
       "14                                              Quest           Nosaj Thing   \n",
       "15                                       Nightcrawler           Nosaj Thing   \n",
       "16                                                Nod      Julianna Barwick   \n",
       "17                                                Nod           Nosaj Thing   \n",
       "\n",
       "                   song_id  \n",
       "0   4ZOv9mx6Lz7RRaBFi5UNaE  \n",
       "1   6f9BnONLZr0rpB5thUzzlW  \n",
       "2   6f9BnONLZr0rpB5thUzzlW  \n",
       "3   0FlYCmQM5q3TcdvwRT53Tt  \n",
       "4   0FlYCmQM5q3TcdvwRT53Tt  \n",
       "5   0FlYCmQM5q3TcdvwRT53Tt  \n",
       "6   11dTnaie5BRo7EFXuVARSy  \n",
       "7   11dTnaie5BRo7EFXuVARSy  \n",
       "8   28atUbzCFihH4GA3dU1gVM  \n",
       "9   28atUbzCFihH4GA3dU1gVM  \n",
       "10  28atUbzCFihH4GA3dU1gVM  \n",
       "11  6FmA0C7U8o7U4LvvyuV5wP  \n",
       "12  6FmA0C7U8o7U4LvvyuV5wP  \n",
       "13  1th4PAEaEQEV0NWAFfwWvv  \n",
       "14  2qwodiatOOWAFFqwZkN439  \n",
       "15  2qjPTOzkXdR32LF9udVEdl  \n",
       "16  3yrhTQ3lv4axr8VIjQkFX8  \n",
       "17  3yrhTQ3lv4axr8VIjQkFX8  "
      ]
     },
     "execution_count": 156,
     "metadata": {},
     "output_type": "execute_result"
    }
   ],
   "source": [
    "df1_t"
   ]
  },
  {
   "cell_type": "code",
   "execution_count": 157,
   "metadata": {},
   "outputs": [],
   "source": [
    "# df1_artists = df1.drop_duplicates(subset='id')"
   ]
  },
  {
   "cell_type": "code",
   "execution_count": 158,
   "metadata": {},
   "outputs": [],
   "source": [
    "# df1_artists"
   ]
  },
  {
   "cell_type": "code",
   "execution_count": 159,
   "metadata": {},
   "outputs": [],
   "source": [
    "# top10_list = []\n",
    "# for i in range(len(df1)):\n",
    "#     top_tracks = sp.artist_top_tracks(df1['id'][i], country='GB')\n",
    "#     top10_list.extend(top_tracks)\n",
    "#     sleep(randint(1, 2500) / 1000)"
   ]
  }
 ],
 "metadata": {
  "kernelspec": {
   "display_name": "base",
   "language": "python",
   "name": "python3"
  },
  "language_info": {
   "codemirror_mode": {
    "name": "ipython",
    "version": 3
   },
   "file_extension": ".py",
   "mimetype": "text/x-python",
   "name": "python",
   "nbconvert_exporter": "python",
   "pygments_lexer": "ipython3",
   "version": "3.11.3"
  },
  "orig_nbformat": 4
 },
 "nbformat": 4,
 "nbformat_minor": 2
}
