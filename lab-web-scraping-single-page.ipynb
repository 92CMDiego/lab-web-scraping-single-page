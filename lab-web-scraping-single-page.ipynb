{
 "cells": [
  {
   "cell_type": "markdown",
   "metadata": {},
   "source": [
    "# Lab | Web Scraping Single Page (GNOD part 1)"
   ]
  },
  {
   "cell_type": "code",
   "execution_count": 1,
   "metadata": {},
   "outputs": [],
   "source": [
    "from bs4 import BeautifulSoup\n",
    "import requests\n",
    "import pandas as pd"
   ]
  },
  {
   "cell_type": "code",
   "execution_count": 2,
   "metadata": {},
   "outputs": [],
   "source": [
    "url = \"https://www.popvortex.com/music/charts/top-100-songs.php\""
   ]
  },
  {
   "cell_type": "code",
   "execution_count": 3,
   "metadata": {},
   "outputs": [],
   "source": [
    "response = requests.get(url)"
   ]
  },
  {
   "cell_type": "code",
   "execution_count": 4,
   "metadata": {},
   "outputs": [
    {
     "data": {
      "text/plain": [
       "200"
      ]
     },
     "execution_count": 4,
     "metadata": {},
     "output_type": "execute_result"
    }
   ],
   "source": [
    "response.status_code"
   ]
  },
  {
   "cell_type": "code",
   "execution_count": 5,
   "metadata": {},
   "outputs": [],
   "source": [
    "soup = BeautifulSoup(response.content, \"html.parser\")"
   ]
  },
  {
   "cell_type": "markdown",
   "metadata": {},
   "source": [
    "We try to find the correct path in the web."
   ]
  },
  {
   "cell_type": "code",
   "execution_count": 6,
   "metadata": {},
   "outputs": [],
   "source": [
    "# body > div.container > div:nth-child(4) > div.col-xs-12.col-md-8 > div.chart-wrapper"
   ]
  },
  {
   "cell_type": "code",
   "execution_count": 7,
   "metadata": {},
   "outputs": [],
   "source": [
    "# soup.select('body > div.container > div:nth-child(4) > div.col-xs-12.col-md-8 > div.chart-wrapper')"
   ]
  },
  {
   "cell_type": "code",
   "execution_count": 8,
   "metadata": {},
   "outputs": [],
   "source": [
    "#chart-position-1 > div.chart-content.col-xs-12.col-sm-8 > p > cite"
   ]
  },
  {
   "cell_type": "code",
   "execution_count": 17,
   "metadata": {},
   "outputs": [
    {
     "data": {
      "text/plain": [
       "[<cite class=\"title\">Margaritaville</cite>,\n",
       " <cite class=\"title\">Come Monday</cite>,\n",
       " <cite class=\"title\">Rich Men North of Richmond</cite>,\n",
       " <cite class=\"title\">Cheeseburger In Paradise</cite>,\n",
       " <cite class=\"title\">Changes In Latitudes, Changes In Attitudes</cite>,\n",
       " <cite class=\"title\">All Star</cite>,\n",
       " <cite class=\"title\">Paint The Town Red</cite>,\n",
       " <cite class=\"title\">I Remember Everything (feat. Kacey Musgraves)</cite>,\n",
       " <cite class=\"title\">A Pirate Looks at Forty</cite>,\n",
       " <cite class=\"title\">It's Five O'Clock Somewhere (Live)</cite>,\n",
       " <cite class=\"title\">Fast Car</cite>,\n",
       " <cite class=\"title\">Lil Boo Thang</cite>,\n",
       " <cite class=\"title\">Son of a Son of a Sailor</cite>,\n",
       " <cite class=\"title\">Last Time I Saw You</cite>,\n",
       " <cite class=\"title\">Used To Be Young</cite>,\n",
       " <cite class=\"title\">Cruel Summer</cite>,\n",
       " <cite class=\"title\">Try That In A Small Town</cite>,\n",
       " <cite class=\"title\">Last Night</cite>,\n",
       " <cite class=\"title\">I Want to go Home</cite>,\n",
       " <cite class=\"title\">Need A Favor</cite>,\n",
       " <cite class=\"title\">Fins</cite>,\n",
       " <cite class=\"title\">Dance The Night</cite>,\n",
       " <cite class=\"title\">Walkin' On the Sun</cite>,\n",
       " <cite class=\"title\">White Horse</cite>,\n",
       " <cite class=\"title\">Watermelon Moonshine</cite>,\n",
       " <cite class=\"title\">Southern Cross (Live)</cite>,\n",
       " <cite class=\"title\">90 some Chevy</cite>,\n",
       " <cite class=\"title\">I'm a Believer</cite>,\n",
       " <cite class=\"title\">Walkin' on the Sun</cite>,\n",
       " <cite class=\"title\">Why Don't We Get Drunk</cite>,\n",
       " <cite class=\"title\">Dream Weaver</cite>,\n",
       " <cite class=\"title\">It's Five O'Clock Somewhere (with Jimmy Buffett)</cite>,\n",
       " <cite class=\"title\">Thinkin’ Bout Me</cite>,\n",
       " <cite class=\"title\">Save Me (with Lainey Wilson)</cite>,\n",
       " <cite class=\"title\">All Star</cite>,\n",
       " <cite class=\"title\">Aint Gotta Dollar</cite>,\n",
       " <cite class=\"title\">Flowers</cite>,\n",
       " <cite class=\"title\">Brown Eyed Girl (Live)</cite>,\n",
       " <cite class=\"title\">Volcano</cite>,\n",
       " <cite class=\"title\">Religiously</cite>,\n",
       " <cite class=\"title\">Walkin' On the Sun</cite>,\n",
       " <cite class=\"title\">Rockstar</cite>,\n",
       " <cite class=\"title\">Keep Going Up</cite>,\n",
       " <cite class=\"title\">Indiana Jones</cite>,\n",
       " <cite class=\"title\">Used To Be Young</cite>,\n",
       " <cite class=\"title\">Dreams</cite>,\n",
       " <cite class=\"title\">Calm Down</cite>,\n",
       " <cite class=\"title\">Lose Control</cite>,\n",
       " <cite class=\"title\">Latinos For Trump</cite>,\n",
       " <cite class=\"title\">Trip Around the Sun</cite>,\n",
       " <cite class=\"title\">vampire</cite>,\n",
       " <cite class=\"title\">Southern Cross</cite>,\n",
       " <cite class=\"title\">A Symptom Of Being Human</cite>,\n",
       " <cite class=\"title\">What Was I Made For? [From The Motion Picture \"Barbie\"]</cite>,\n",
       " <cite class=\"title\">Beat You There</cite>,\n",
       " <cite class=\"title\">Have You Ever Seen the Rain</cite>,\n",
       " <cite class=\"title\">Son Of A Sinner</cite>,\n",
       " <cite class=\"title\">He Went to Paris</cite>,\n",
       " <cite class=\"title\">Love Is Alive</cite>,\n",
       " <cite class=\"title\">Knee Deep (feat. Jimmy Buffett) [Greatest Hits Version]</cite>,\n",
       " <cite class=\"title\">How You Remind Me</cite>,\n",
       " <cite class=\"title\">I'm a Believer (Radio)</cite>,\n",
       " <cite class=\"title\">Far Away</cite>,\n",
       " <cite class=\"title\">Love You Anyway</cite>,\n",
       " <cite class=\"title\">Forever Young</cite>,\n",
       " <cite class=\"title\">Brown Eyed Girl</cite>,\n",
       " <cite class=\"title\">Anti-Hero</cite>,\n",
       " <cite class=\"title\">Single Soon</cite>,\n",
       " <cite class=\"title\">Ive Got to Get Sober</cite>,\n",
       " <cite class=\"title\">TRUCK BED</cite>,\n",
       " <cite class=\"title\">Enter Sandman</cite>,\n",
       " <cite class=\"title\">One Particular Harbour</cite>,\n",
       " <cite class=\"title\">Come Monday</cite>,\n",
       " <cite class=\"title\">Hard to Say I'm Sorry / Get Away</cite>,\n",
       " <cite class=\"title\">In Your Love</cite>,\n",
       " <cite class=\"title\">Photograph</cite>,\n",
       " <cite class=\"title\">Tennessee Whiskey</cite>,\n",
       " <cite class=\"title\">I'll Stand By You</cite>,\n",
       " <cite class=\"title\">You're the Inspiration</cite>,\n",
       " <cite class=\"title\">Something in the Orange (Z&amp;E's Version)</cite>,\n",
       " <cite class=\"title\">Barbie World (with Aqua)</cite>,\n",
       " <cite class=\"title\">Bury Me in Georgia (Single Edit)</cite>,\n",
       " <cite class=\"title\">I Want To Go Home (live)</cite>,\n",
       " <cite class=\"title\">Everything I Love</cite>,\n",
       " <cite class=\"title\">Gypsy</cite>,\n",
       " <cite class=\"title\">We Didn’t Start The Fire</cite>,\n",
       " <cite class=\"title\">Thought You Should Know</cite>,\n",
       " <cite class=\"title\">Rhiannon</cite>,\n",
       " <cite class=\"title\">Unstoppable</cite>,\n",
       " <cite class=\"title\">august</cite>,\n",
       " <cite class=\"title\">Daylight</cite>,\n",
       " <cite class=\"title\">Heart Like A Truck</cite>,\n",
       " <cite class=\"title\">Dial Drunk</cite>,\n",
       " <cite class=\"title\">Snooze</cite>,\n",
       " <cite class=\"title\">Boat Drinks</cite>,\n",
       " <cite class=\"title\">Can't Get Enough of You Baby</cite>,\n",
       " <cite class=\"title\">Spirit In the Sky</cite>,\n",
       " <cite class=\"title\">bad idea right?</cite>,\n",
       " <cite class=\"title\">Whiteboyz</cite>,\n",
       " <cite class=\"title\">Bring Me to Life</cite>]"
      ]
     },
     "execution_count": 17,
     "metadata": {},
     "output_type": "execute_result"
    }
   ],
   "source": [
    "soup.select('div.chart-content.col-xs-12.col-sm-8 > p > cite')"
   ]
  },
  {
   "cell_type": "markdown",
   "metadata": {},
   "source": [
    "We try with '.title' and it works (thanks to Lilit). It seems like only 'cite' tags have the attribute 'title'."
   ]
  },
  {
   "cell_type": "code",
   "execution_count": 10,
   "metadata": {},
   "outputs": [],
   "source": [
    "songs = soup.select('.title')\n",
    "artists = soup.select('.artist')"
   ]
  },
  {
   "cell_type": "code",
   "execution_count": 11,
   "metadata": {},
   "outputs": [],
   "source": [
    "# songs"
   ]
  },
  {
   "cell_type": "code",
   "execution_count": 12,
   "metadata": {},
   "outputs": [],
   "source": [
    "# artists"
   ]
  },
  {
   "cell_type": "markdown",
   "metadata": {},
   "source": [
    "We get the text from each tag and store them in lists that we then transform into a dataframe."
   ]
  },
  {
   "cell_type": "code",
   "execution_count": 13,
   "metadata": {},
   "outputs": [],
   "source": [
    "titles = []\n",
    "for cite in songs:\n",
    "    titles.append(cite.get_text())"
   ]
  },
  {
   "cell_type": "code",
   "execution_count": 14,
   "metadata": {},
   "outputs": [],
   "source": [
    "singers = []\n",
    "for cite in artists:\n",
    "    singers.append(cite.get_text())"
   ]
  },
  {
   "cell_type": "code",
   "execution_count": 15,
   "metadata": {},
   "outputs": [],
   "source": [
    "top100_20230409 = pd.DataFrame({\"title\":titles,\n",
    "                       \"artist\":singers,\n",
    "                      })"
   ]
  },
  {
   "cell_type": "code",
   "execution_count": 16,
   "metadata": {},
   "outputs": [
    {
     "data": {
      "text/html": [
       "<div>\n",
       "<style scoped>\n",
       "    .dataframe tbody tr th:only-of-type {\n",
       "        vertical-align: middle;\n",
       "    }\n",
       "\n",
       "    .dataframe tbody tr th {\n",
       "        vertical-align: top;\n",
       "    }\n",
       "\n",
       "    .dataframe thead th {\n",
       "        text-align: right;\n",
       "    }\n",
       "</style>\n",
       "<table border=\"1\" class=\"dataframe\">\n",
       "  <thead>\n",
       "    <tr style=\"text-align: right;\">\n",
       "      <th></th>\n",
       "      <th>title</th>\n",
       "      <th>artist</th>\n",
       "    </tr>\n",
       "  </thead>\n",
       "  <tbody>\n",
       "    <tr>\n",
       "      <th>0</th>\n",
       "      <td>Margaritaville</td>\n",
       "      <td>Jimmy Buffett</td>\n",
       "    </tr>\n",
       "    <tr>\n",
       "      <th>1</th>\n",
       "      <td>Come Monday</td>\n",
       "      <td>Jimmy Buffett</td>\n",
       "    </tr>\n",
       "    <tr>\n",
       "      <th>2</th>\n",
       "      <td>Rich Men North of Richmond</td>\n",
       "      <td>Oliver Anthony Music</td>\n",
       "    </tr>\n",
       "    <tr>\n",
       "      <th>3</th>\n",
       "      <td>Cheeseburger In Paradise</td>\n",
       "      <td>Jimmy Buffett</td>\n",
       "    </tr>\n",
       "    <tr>\n",
       "      <th>4</th>\n",
       "      <td>Changes In Latitudes, Changes In Attitudes</td>\n",
       "      <td>Jimmy Buffett</td>\n",
       "    </tr>\n",
       "    <tr>\n",
       "      <th>...</th>\n",
       "      <td>...</td>\n",
       "      <td>...</td>\n",
       "    </tr>\n",
       "    <tr>\n",
       "      <th>95</th>\n",
       "      <td>Can't Get Enough of You Baby</td>\n",
       "      <td>Smash Mouth</td>\n",
       "    </tr>\n",
       "    <tr>\n",
       "      <th>96</th>\n",
       "      <td>Spirit In the Sky</td>\n",
       "      <td>Norman Greenbaum</td>\n",
       "    </tr>\n",
       "    <tr>\n",
       "      <th>97</th>\n",
       "      <td>bad idea right?</td>\n",
       "      <td>Olivia Rodrigo</td>\n",
       "    </tr>\n",
       "    <tr>\n",
       "      <th>98</th>\n",
       "      <td>Whiteboyz</td>\n",
       "      <td>Tom MacDonald &amp; Adam Calhoun</td>\n",
       "    </tr>\n",
       "    <tr>\n",
       "      <th>99</th>\n",
       "      <td>Bring Me to Life</td>\n",
       "      <td>Evanescence</td>\n",
       "    </tr>\n",
       "  </tbody>\n",
       "</table>\n",
       "<p>100 rows × 2 columns</p>\n",
       "</div>"
      ],
      "text/plain": [
       "                                         title                        artist\n",
       "0                               Margaritaville                 Jimmy Buffett\n",
       "1                                  Come Monday                 Jimmy Buffett\n",
       "2                   Rich Men North of Richmond          Oliver Anthony Music\n",
       "3                     Cheeseburger In Paradise                 Jimmy Buffett\n",
       "4   Changes In Latitudes, Changes In Attitudes                 Jimmy Buffett\n",
       "..                                         ...                           ...\n",
       "95                Can't Get Enough of You Baby                   Smash Mouth\n",
       "96                           Spirit In the Sky              Norman Greenbaum\n",
       "97                             bad idea right?                Olivia Rodrigo\n",
       "98                                   Whiteboyz  Tom MacDonald & Adam Calhoun\n",
       "99                            Bring Me to Life                   Evanescence\n",
       "\n",
       "[100 rows x 2 columns]"
      ]
     },
     "execution_count": 16,
     "metadata": {},
     "output_type": "execute_result"
    }
   ],
   "source": [
    "top100_20230409"
   ]
  }
 ],
 "metadata": {
  "kernelspec": {
   "display_name": "base",
   "language": "python",
   "name": "python3"
  },
  "language_info": {
   "codemirror_mode": {
    "name": "ipython",
    "version": 3
   },
   "file_extension": ".py",
   "mimetype": "text/x-python",
   "name": "python",
   "nbconvert_exporter": "python",
   "pygments_lexer": "ipython3",
   "version": "3.11.3"
  },
  "orig_nbformat": 4
 },
 "nbformat": 4,
 "nbformat_minor": 2
}
