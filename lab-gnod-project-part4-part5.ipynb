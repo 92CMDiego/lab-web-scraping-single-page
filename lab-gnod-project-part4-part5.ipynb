{
 "cells": [
  {
   "cell_type": "code",
   "execution_count": 1,
   "metadata": {},
   "outputs": [],
   "source": [
    "import pandas as pd\n",
    "import numpy as np\n",
    "import matplotlib.pyplot as plt\n",
    "from sklearn.cluster import KMeans\n",
    "from pandas import json_normalize"
   ]
  },
  {
   "cell_type": "markdown",
   "metadata": {},
   "source": [
    "Read our dataset."
   ]
  },
  {
   "cell_type": "code",
   "execution_count": 2,
   "metadata": {},
   "outputs": [],
   "source": [
    "df_audio_ft = pd.read_csv('df_audio_ft.csv')"
   ]
  },
  {
   "cell_type": "code",
   "execution_count": 3,
   "metadata": {},
   "outputs": [
    {
     "data": {
      "text/plain": [
       "11869"
      ]
     },
     "execution_count": 3,
     "metadata": {},
     "output_type": "execute_result"
    }
   ],
   "source": [
    "len(df_audio_ft)"
   ]
  },
  {
   "cell_type": "code",
   "execution_count": 4,
   "metadata": {},
   "outputs": [
    {
     "data": {
      "text/html": [
       "<div>\n",
       "<style scoped>\n",
       "    .dataframe tbody tr th:only-of-type {\n",
       "        vertical-align: middle;\n",
       "    }\n",
       "\n",
       "    .dataframe tbody tr th {\n",
       "        vertical-align: top;\n",
       "    }\n",
       "\n",
       "    .dataframe thead th {\n",
       "        text-align: right;\n",
       "    }\n",
       "</style>\n",
       "<table border=\"1\" class=\"dataframe\">\n",
       "  <thead>\n",
       "    <tr style=\"text-align: right;\">\n",
       "      <th></th>\n",
       "      <th>track.name</th>\n",
       "      <th>song_id</th>\n",
       "      <th>name</th>\n",
       "      <th>id_x</th>\n",
       "      <th>danceability</th>\n",
       "      <th>energy</th>\n",
       "      <th>key</th>\n",
       "      <th>loudness</th>\n",
       "      <th>mode</th>\n",
       "      <th>speechiness</th>\n",
       "      <th>...</th>\n",
       "      <th>liveness</th>\n",
       "      <th>valence</th>\n",
       "      <th>tempo</th>\n",
       "      <th>type</th>\n",
       "      <th>id_y</th>\n",
       "      <th>uri</th>\n",
       "      <th>track_href</th>\n",
       "      <th>analysis_url</th>\n",
       "      <th>duration_ms</th>\n",
       "      <th>time_signature</th>\n",
       "    </tr>\n",
       "  </thead>\n",
       "  <tbody>\n",
       "    <tr>\n",
       "      <th>0</th>\n",
       "      <td>2K</td>\n",
       "      <td>33xMbeHzmWd6Od0BmLZEUs</td>\n",
       "      <td>Nosaj Thing</td>\n",
       "      <td>0IVapwlnM3dEOiMsHXsghT</td>\n",
       "      <td>0.310</td>\n",
       "      <td>0.445</td>\n",
       "      <td>7</td>\n",
       "      <td>-13.355</td>\n",
       "      <td>0</td>\n",
       "      <td>0.0863</td>\n",
       "      <td>...</td>\n",
       "      <td>0.113</td>\n",
       "      <td>0.122</td>\n",
       "      <td>95.360</td>\n",
       "      <td>audio_features</td>\n",
       "      <td>33xMbeHzmWd6Od0BmLZEUs</td>\n",
       "      <td>spotify:track:33xMbeHzmWd6Od0BmLZEUs</td>\n",
       "      <td>https://api.spotify.com/v1/tracks/33xMbeHzmWd6...</td>\n",
       "      <td>https://api.spotify.com/v1/audio-analysis/33xM...</td>\n",
       "      <td>152560</td>\n",
       "      <td>3</td>\n",
       "    </tr>\n",
       "    <tr>\n",
       "      <th>1</th>\n",
       "      <td>4 Billion Souls</td>\n",
       "      <td>3UnyplmZaq547hwsfOR5yy</td>\n",
       "      <td>The Doors</td>\n",
       "      <td>22WZ7M8sxp5THdruNY3gXt</td>\n",
       "      <td>0.419</td>\n",
       "      <td>0.565</td>\n",
       "      <td>5</td>\n",
       "      <td>-11.565</td>\n",
       "      <td>1</td>\n",
       "      <td>0.0347</td>\n",
       "      <td>...</td>\n",
       "      <td>0.128</td>\n",
       "      <td>0.648</td>\n",
       "      <td>151.277</td>\n",
       "      <td>audio_features</td>\n",
       "      <td>3UnyplmZaq547hwsfOR5yy</td>\n",
       "      <td>spotify:track:3UnyplmZaq547hwsfOR5yy</td>\n",
       "      <td>https://api.spotify.com/v1/tracks/3UnyplmZaq54...</td>\n",
       "      <td>https://api.spotify.com/v1/audio-analysis/3Uny...</td>\n",
       "      <td>197707</td>\n",
       "      <td>4</td>\n",
       "    </tr>\n",
       "    <tr>\n",
       "      <th>2</th>\n",
       "      <td>4 Minute Warning</td>\n",
       "      <td>1w8QCSDH4QobcQeT4uMKLm</td>\n",
       "      <td>Radiohead</td>\n",
       "      <td>4Z8W4fKeB5YxbusRsdQVPb</td>\n",
       "      <td>0.354</td>\n",
       "      <td>0.302</td>\n",
       "      <td>9</td>\n",
       "      <td>-13.078</td>\n",
       "      <td>1</td>\n",
       "      <td>0.0326</td>\n",
       "      <td>...</td>\n",
       "      <td>0.111</td>\n",
       "      <td>0.223</td>\n",
       "      <td>123.753</td>\n",
       "      <td>audio_features</td>\n",
       "      <td>1w8QCSDH4QobcQeT4uMKLm</td>\n",
       "      <td>spotify:track:1w8QCSDH4QobcQeT4uMKLm</td>\n",
       "      <td>https://api.spotify.com/v1/tracks/1w8QCSDH4Qob...</td>\n",
       "      <td>https://api.spotify.com/v1/audio-analysis/1w8Q...</td>\n",
       "      <td>244285</td>\n",
       "      <td>4</td>\n",
       "    </tr>\n",
       "  </tbody>\n",
       "</table>\n",
       "<p>3 rows × 22 columns</p>\n",
       "</div>"
      ],
      "text/plain": [
       "         track.name                 song_id         name  \\\n",
       "0                2K  33xMbeHzmWd6Od0BmLZEUs  Nosaj Thing   \n",
       "1   4 Billion Souls  3UnyplmZaq547hwsfOR5yy    The Doors   \n",
       "2  4 Minute Warning  1w8QCSDH4QobcQeT4uMKLm    Radiohead   \n",
       "\n",
       "                     id_x  danceability  energy  key  loudness  mode  \\\n",
       "0  0IVapwlnM3dEOiMsHXsghT         0.310   0.445    7   -13.355     0   \n",
       "1  22WZ7M8sxp5THdruNY3gXt         0.419   0.565    5   -11.565     1   \n",
       "2  4Z8W4fKeB5YxbusRsdQVPb         0.354   0.302    9   -13.078     1   \n",
       "\n",
       "   speechiness  ...  liveness  valence    tempo            type  \\\n",
       "0       0.0863  ...     0.113    0.122   95.360  audio_features   \n",
       "1       0.0347  ...     0.128    0.648  151.277  audio_features   \n",
       "2       0.0326  ...     0.111    0.223  123.753  audio_features   \n",
       "\n",
       "                     id_y                                   uri  \\\n",
       "0  33xMbeHzmWd6Od0BmLZEUs  spotify:track:33xMbeHzmWd6Od0BmLZEUs   \n",
       "1  3UnyplmZaq547hwsfOR5yy  spotify:track:3UnyplmZaq547hwsfOR5yy   \n",
       "2  1w8QCSDH4QobcQeT4uMKLm  spotify:track:1w8QCSDH4QobcQeT4uMKLm   \n",
       "\n",
       "                                          track_href  \\\n",
       "0  https://api.spotify.com/v1/tracks/33xMbeHzmWd6...   \n",
       "1  https://api.spotify.com/v1/tracks/3UnyplmZaq54...   \n",
       "2  https://api.spotify.com/v1/tracks/1w8QCSDH4Qob...   \n",
       "\n",
       "                                        analysis_url duration_ms  \\\n",
       "0  https://api.spotify.com/v1/audio-analysis/33xM...      152560   \n",
       "1  https://api.spotify.com/v1/audio-analysis/3Uny...      197707   \n",
       "2  https://api.spotify.com/v1/audio-analysis/1w8Q...      244285   \n",
       "\n",
       "  time_signature  \n",
       "0              3  \n",
       "1              4  \n",
       "2              4  \n",
       "\n",
       "[3 rows x 22 columns]"
      ]
     },
     "execution_count": 4,
     "metadata": {},
     "output_type": "execute_result"
    }
   ],
   "source": [
    "df_audio_ft.head(3)"
   ]
  },
  {
   "cell_type": "code",
   "execution_count": 5,
   "metadata": {},
   "outputs": [
    {
     "data": {
      "text/plain": [
       "Index(['track.name', 'song_id', 'name', 'id_x', 'danceability', 'energy',\n",
       "       'key', 'loudness', 'mode', 'speechiness', 'acousticness',\n",
       "       'instrumentalness', 'liveness', 'valence', 'tempo', 'type', 'id_y',\n",
       "       'uri', 'track_href', 'analysis_url', 'duration_ms', 'time_signature'],\n",
       "      dtype='object')"
      ]
     },
     "execution_count": 5,
     "metadata": {},
     "output_type": "execute_result"
    }
   ],
   "source": [
    "df_audio_ft.columns"
   ]
  },
  {
   "cell_type": "code",
   "execution_count": 6,
   "metadata": {},
   "outputs": [
    {
     "data": {
      "text/plain": [
       "audio_features    11869\n",
       "Name: type, dtype: int64"
      ]
     },
     "execution_count": 6,
     "metadata": {},
     "output_type": "execute_result"
    }
   ],
   "source": [
    "df_audio_ft['type'].value_counts()"
   ]
  },
  {
   "cell_type": "code",
   "execution_count": 7,
   "metadata": {},
   "outputs": [],
   "source": [
    "df_audio_ft = df_audio_ft.drop(['id_y', 'type'], axis=1)"
   ]
  },
  {
   "cell_type": "code",
   "execution_count": 8,
   "metadata": {},
   "outputs": [],
   "source": [
    "df_audio_ft = df_audio_ft.rename(columns={'track.name': 'track_name', 'name': 'artist_name', 'id_x': 'artist_id'})"
   ]
  },
  {
   "cell_type": "code",
   "execution_count": 9,
   "metadata": {},
   "outputs": [
    {
     "data": {
      "text/plain": [
       "Index(['track_name', 'song_id', 'artist_name', 'artist_id', 'danceability',\n",
       "       'energy', 'key', 'loudness', 'mode', 'speechiness', 'acousticness',\n",
       "       'instrumentalness', 'liveness', 'valence', 'tempo', 'uri', 'track_href',\n",
       "       'analysis_url', 'duration_ms', 'time_signature'],\n",
       "      dtype='object')"
      ]
     },
     "execution_count": 9,
     "metadata": {},
     "output_type": "execute_result"
    }
   ],
   "source": [
    "df_audio_ft.columns"
   ]
  },
  {
   "cell_type": "markdown",
   "metadata": {},
   "source": [
    "#### Scaling."
   ]
  },
  {
   "cell_type": "code",
   "execution_count": 10,
   "metadata": {},
   "outputs": [],
   "source": [
    "X = df_audio_ft.drop(['track_name', 'song_id', 'artist_name', 'artist_id', 'uri', 'track_href', 'analysis_url'], axis=1)"
   ]
  },
  {
   "cell_type": "code",
   "execution_count": 11,
   "metadata": {},
   "outputs": [
    {
     "data": {
      "text/html": [
       "<div>\n",
       "<style scoped>\n",
       "    .dataframe tbody tr th:only-of-type {\n",
       "        vertical-align: middle;\n",
       "    }\n",
       "\n",
       "    .dataframe tbody tr th {\n",
       "        vertical-align: top;\n",
       "    }\n",
       "\n",
       "    .dataframe thead th {\n",
       "        text-align: right;\n",
       "    }\n",
       "</style>\n",
       "<table border=\"1\" class=\"dataframe\">\n",
       "  <thead>\n",
       "    <tr style=\"text-align: right;\">\n",
       "      <th></th>\n",
       "      <th>danceability</th>\n",
       "      <th>energy</th>\n",
       "      <th>key</th>\n",
       "      <th>loudness</th>\n",
       "      <th>mode</th>\n",
       "      <th>speechiness</th>\n",
       "      <th>acousticness</th>\n",
       "      <th>instrumentalness</th>\n",
       "      <th>liveness</th>\n",
       "      <th>valence</th>\n",
       "      <th>tempo</th>\n",
       "      <th>duration_ms</th>\n",
       "      <th>time_signature</th>\n",
       "    </tr>\n",
       "  </thead>\n",
       "  <tbody>\n",
       "    <tr>\n",
       "      <th>0</th>\n",
       "      <td>0.310</td>\n",
       "      <td>0.445</td>\n",
       "      <td>7</td>\n",
       "      <td>-13.355</td>\n",
       "      <td>0</td>\n",
       "      <td>0.0863</td>\n",
       "      <td>0.094</td>\n",
       "      <td>0.0678</td>\n",
       "      <td>0.113</td>\n",
       "      <td>0.122</td>\n",
       "      <td>95.360</td>\n",
       "      <td>152560</td>\n",
       "      <td>3</td>\n",
       "    </tr>\n",
       "    <tr>\n",
       "      <th>1</th>\n",
       "      <td>0.419</td>\n",
       "      <td>0.565</td>\n",
       "      <td>5</td>\n",
       "      <td>-11.565</td>\n",
       "      <td>1</td>\n",
       "      <td>0.0347</td>\n",
       "      <td>0.137</td>\n",
       "      <td>0.3370</td>\n",
       "      <td>0.128</td>\n",
       "      <td>0.648</td>\n",
       "      <td>151.277</td>\n",
       "      <td>197707</td>\n",
       "      <td>4</td>\n",
       "    </tr>\n",
       "    <tr>\n",
       "      <th>2</th>\n",
       "      <td>0.354</td>\n",
       "      <td>0.302</td>\n",
       "      <td>9</td>\n",
       "      <td>-13.078</td>\n",
       "      <td>1</td>\n",
       "      <td>0.0326</td>\n",
       "      <td>0.590</td>\n",
       "      <td>0.0709</td>\n",
       "      <td>0.111</td>\n",
       "      <td>0.223</td>\n",
       "      <td>123.753</td>\n",
       "      <td>244285</td>\n",
       "      <td>4</td>\n",
       "    </tr>\n",
       "  </tbody>\n",
       "</table>\n",
       "</div>"
      ],
      "text/plain": [
       "   danceability  energy  key  loudness  mode  speechiness  acousticness  \\\n",
       "0         0.310   0.445    7   -13.355     0       0.0863         0.094   \n",
       "1         0.419   0.565    5   -11.565     1       0.0347         0.137   \n",
       "2         0.354   0.302    9   -13.078     1       0.0326         0.590   \n",
       "\n",
       "   instrumentalness  liveness  valence    tempo  duration_ms  time_signature  \n",
       "0            0.0678     0.113    0.122   95.360       152560               3  \n",
       "1            0.3370     0.128    0.648  151.277       197707               4  \n",
       "2            0.0709     0.111    0.223  123.753       244285               4  "
      ]
     },
     "execution_count": 11,
     "metadata": {},
     "output_type": "execute_result"
    }
   ],
   "source": [
    "X.head(3)"
   ]
  },
  {
   "cell_type": "code",
   "execution_count": 12,
   "metadata": {},
   "outputs": [
    {
     "data": {
      "text/html": [
       "<div>\n",
       "<style scoped>\n",
       "    .dataframe tbody tr th:only-of-type {\n",
       "        vertical-align: middle;\n",
       "    }\n",
       "\n",
       "    .dataframe tbody tr th {\n",
       "        vertical-align: top;\n",
       "    }\n",
       "\n",
       "    .dataframe thead th {\n",
       "        text-align: right;\n",
       "    }\n",
       "</style>\n",
       "<table border=\"1\" class=\"dataframe\">\n",
       "  <thead>\n",
       "    <tr style=\"text-align: right;\">\n",
       "      <th></th>\n",
       "      <th>danceability</th>\n",
       "      <th>energy</th>\n",
       "      <th>key</th>\n",
       "      <th>loudness</th>\n",
       "      <th>mode</th>\n",
       "      <th>speechiness</th>\n",
       "      <th>acousticness</th>\n",
       "      <th>instrumentalness</th>\n",
       "      <th>liveness</th>\n",
       "      <th>valence</th>\n",
       "      <th>tempo</th>\n",
       "      <th>duration_ms</th>\n",
       "      <th>time_signature</th>\n",
       "    </tr>\n",
       "  </thead>\n",
       "  <tbody>\n",
       "    <tr>\n",
       "      <th>count</th>\n",
       "      <td>11869.000000</td>\n",
       "      <td>11869.000000</td>\n",
       "      <td>11869.000000</td>\n",
       "      <td>11869.000000</td>\n",
       "      <td>11869.000000</td>\n",
       "      <td>11869.000000</td>\n",
       "      <td>11869.000000</td>\n",
       "      <td>11869.000000</td>\n",
       "      <td>11869.000000</td>\n",
       "      <td>11869.000000</td>\n",
       "      <td>11869.000000</td>\n",
       "      <td>1.186900e+04</td>\n",
       "      <td>11869.00000</td>\n",
       "    </tr>\n",
       "    <tr>\n",
       "      <th>mean</th>\n",
       "      <td>0.576681</td>\n",
       "      <td>0.624961</td>\n",
       "      <td>5.223018</td>\n",
       "      <td>-7.986699</td>\n",
       "      <td>0.631982</td>\n",
       "      <td>0.078908</td>\n",
       "      <td>0.280963</td>\n",
       "      <td>0.107458</td>\n",
       "      <td>0.191902</td>\n",
       "      <td>0.482683</td>\n",
       "      <td>120.018935</td>\n",
       "      <td>2.334646e+05</td>\n",
       "      <td>3.92156</td>\n",
       "    </tr>\n",
       "    <tr>\n",
       "      <th>std</th>\n",
       "      <td>0.159702</td>\n",
       "      <td>0.229983</td>\n",
       "      <td>3.610090</td>\n",
       "      <td>4.253265</td>\n",
       "      <td>0.482286</td>\n",
       "      <td>0.087975</td>\n",
       "      <td>0.310273</td>\n",
       "      <td>0.250542</td>\n",
       "      <td>0.161431</td>\n",
       "      <td>0.243681</td>\n",
       "      <td>28.540840</td>\n",
       "      <td>8.487520e+04</td>\n",
       "      <td>0.38531</td>\n",
       "    </tr>\n",
       "    <tr>\n",
       "      <th>min</th>\n",
       "      <td>0.000000</td>\n",
       "      <td>0.000000</td>\n",
       "      <td>0.000000</td>\n",
       "      <td>-60.000000</td>\n",
       "      <td>0.000000</td>\n",
       "      <td>0.000000</td>\n",
       "      <td>0.000000</td>\n",
       "      <td>0.000000</td>\n",
       "      <td>0.000000</td>\n",
       "      <td>0.000000</td>\n",
       "      <td>0.000000</td>\n",
       "      <td>7.240000e+03</td>\n",
       "      <td>0.00000</td>\n",
       "    </tr>\n",
       "    <tr>\n",
       "      <th>25%</th>\n",
       "      <td>0.471000</td>\n",
       "      <td>0.472000</td>\n",
       "      <td>2.000000</td>\n",
       "      <td>-9.702000</td>\n",
       "      <td>0.000000</td>\n",
       "      <td>0.034100</td>\n",
       "      <td>0.024000</td>\n",
       "      <td>0.000000</td>\n",
       "      <td>0.096900</td>\n",
       "      <td>0.290000</td>\n",
       "      <td>98.976000</td>\n",
       "      <td>1.920130e+05</td>\n",
       "      <td>4.00000</td>\n",
       "    </tr>\n",
       "    <tr>\n",
       "      <th>50%</th>\n",
       "      <td>0.586000</td>\n",
       "      <td>0.661000</td>\n",
       "      <td>5.000000</td>\n",
       "      <td>-7.062000</td>\n",
       "      <td>1.000000</td>\n",
       "      <td>0.045700</td>\n",
       "      <td>0.137000</td>\n",
       "      <td>0.000062</td>\n",
       "      <td>0.125000</td>\n",
       "      <td>0.471000</td>\n",
       "      <td>119.961000</td>\n",
       "      <td>2.224000e+05</td>\n",
       "      <td>4.00000</td>\n",
       "    </tr>\n",
       "    <tr>\n",
       "      <th>75%</th>\n",
       "      <td>0.690000</td>\n",
       "      <td>0.812000</td>\n",
       "      <td>8.000000</td>\n",
       "      <td>-5.157000</td>\n",
       "      <td>1.000000</td>\n",
       "      <td>0.078900</td>\n",
       "      <td>0.494000</td>\n",
       "      <td>0.018300</td>\n",
       "      <td>0.240000</td>\n",
       "      <td>0.675000</td>\n",
       "      <td>136.966000</td>\n",
       "      <td>2.590270e+05</td>\n",
       "      <td>4.00000</td>\n",
       "    </tr>\n",
       "    <tr>\n",
       "      <th>max</th>\n",
       "      <td>0.980000</td>\n",
       "      <td>0.998000</td>\n",
       "      <td>11.000000</td>\n",
       "      <td>-0.475000</td>\n",
       "      <td>1.000000</td>\n",
       "      <td>0.963000</td>\n",
       "      <td>0.996000</td>\n",
       "      <td>0.996000</td>\n",
       "      <td>0.997000</td>\n",
       "      <td>0.991000</td>\n",
       "      <td>239.964000</td>\n",
       "      <td>1.967427e+06</td>\n",
       "      <td>5.00000</td>\n",
       "    </tr>\n",
       "  </tbody>\n",
       "</table>\n",
       "</div>"
      ],
      "text/plain": [
       "       danceability        energy           key      loudness          mode  \\\n",
       "count  11869.000000  11869.000000  11869.000000  11869.000000  11869.000000   \n",
       "mean       0.576681      0.624961      5.223018     -7.986699      0.631982   \n",
       "std        0.159702      0.229983      3.610090      4.253265      0.482286   \n",
       "min        0.000000      0.000000      0.000000    -60.000000      0.000000   \n",
       "25%        0.471000      0.472000      2.000000     -9.702000      0.000000   \n",
       "50%        0.586000      0.661000      5.000000     -7.062000      1.000000   \n",
       "75%        0.690000      0.812000      8.000000     -5.157000      1.000000   \n",
       "max        0.980000      0.998000     11.000000     -0.475000      1.000000   \n",
       "\n",
       "        speechiness  acousticness  instrumentalness      liveness  \\\n",
       "count  11869.000000  11869.000000      11869.000000  11869.000000   \n",
       "mean       0.078908      0.280963          0.107458      0.191902   \n",
       "std        0.087975      0.310273          0.250542      0.161431   \n",
       "min        0.000000      0.000000          0.000000      0.000000   \n",
       "25%        0.034100      0.024000          0.000000      0.096900   \n",
       "50%        0.045700      0.137000          0.000062      0.125000   \n",
       "75%        0.078900      0.494000          0.018300      0.240000   \n",
       "max        0.963000      0.996000          0.996000      0.997000   \n",
       "\n",
       "            valence         tempo   duration_ms  time_signature  \n",
       "count  11869.000000  11869.000000  1.186900e+04     11869.00000  \n",
       "mean       0.482683    120.018935  2.334646e+05         3.92156  \n",
       "std        0.243681     28.540840  8.487520e+04         0.38531  \n",
       "min        0.000000      0.000000  7.240000e+03         0.00000  \n",
       "25%        0.290000     98.976000  1.920130e+05         4.00000  \n",
       "50%        0.471000    119.961000  2.224000e+05         4.00000  \n",
       "75%        0.675000    136.966000  2.590270e+05         4.00000  \n",
       "max        0.991000    239.964000  1.967427e+06         5.00000  "
      ]
     },
     "execution_count": 12,
     "metadata": {},
     "output_type": "execute_result"
    }
   ],
   "source": [
    "X.describe()"
   ]
  },
  {
   "cell_type": "code",
   "execution_count": 13,
   "metadata": {},
   "outputs": [],
   "source": [
    "from sklearn.preprocessing import StandardScaler\n",
    "scaler = StandardScaler().fit(X)"
   ]
  },
  {
   "cell_type": "code",
   "execution_count": 14,
   "metadata": {},
   "outputs": [],
   "source": [
    "X_prep = scaler.transform(X)"
   ]
  },
  {
   "cell_type": "code",
   "execution_count": 15,
   "metadata": {},
   "outputs": [
    {
     "data": {
      "text/html": [
       "<div>\n",
       "<style scoped>\n",
       "    .dataframe tbody tr th:only-of-type {\n",
       "        vertical-align: middle;\n",
       "    }\n",
       "\n",
       "    .dataframe tbody tr th {\n",
       "        vertical-align: top;\n",
       "    }\n",
       "\n",
       "    .dataframe thead th {\n",
       "        text-align: right;\n",
       "    }\n",
       "</style>\n",
       "<table border=\"1\" class=\"dataframe\">\n",
       "  <thead>\n",
       "    <tr style=\"text-align: right;\">\n",
       "      <th></th>\n",
       "      <th>danceability</th>\n",
       "      <th>energy</th>\n",
       "      <th>key</th>\n",
       "      <th>loudness</th>\n",
       "      <th>mode</th>\n",
       "      <th>speechiness</th>\n",
       "      <th>acousticness</th>\n",
       "      <th>instrumentalness</th>\n",
       "      <th>liveness</th>\n",
       "      <th>valence</th>\n",
       "      <th>tempo</th>\n",
       "      <th>duration_ms</th>\n",
       "      <th>time_signature</th>\n",
       "    </tr>\n",
       "  </thead>\n",
       "  <tbody>\n",
       "    <tr>\n",
       "      <th>0</th>\n",
       "      <td>-1.669937</td>\n",
       "      <td>-0.782531</td>\n",
       "      <td>0.492247</td>\n",
       "      <td>-1.262213</td>\n",
       "      <td>-1.310443</td>\n",
       "      <td>0.084024</td>\n",
       "      <td>-0.602602</td>\n",
       "      <td>-0.158296</td>\n",
       "      <td>-0.488783</td>\n",
       "      <td>-1.480202</td>\n",
       "      <td>-0.864024</td>\n",
       "      <td>-0.953258</td>\n",
       "      <td>-2.391835</td>\n",
       "    </tr>\n",
       "    <tr>\n",
       "      <th>1</th>\n",
       "      <td>-0.987388</td>\n",
       "      <td>-0.260731</td>\n",
       "      <td>-0.061779</td>\n",
       "      <td>-0.841342</td>\n",
       "      <td>0.763100</td>\n",
       "      <td>-0.502532</td>\n",
       "      <td>-0.464009</td>\n",
       "      <td>0.916222</td>\n",
       "      <td>-0.395861</td>\n",
       "      <td>0.678445</td>\n",
       "      <td>1.095251</td>\n",
       "      <td>-0.421314</td>\n",
       "      <td>0.203584</td>\n",
       "    </tr>\n",
       "    <tr>\n",
       "      <th>2</th>\n",
       "      <td>-1.394413</td>\n",
       "      <td>-1.404342</td>\n",
       "      <td>1.046273</td>\n",
       "      <td>-1.197084</td>\n",
       "      <td>0.763100</td>\n",
       "      <td>-0.526403</td>\n",
       "      <td>0.996058</td>\n",
       "      <td>-0.145922</td>\n",
       "      <td>-0.501173</td>\n",
       "      <td>-1.065709</td>\n",
       "      <td>0.130838</td>\n",
       "      <td>0.127491</td>\n",
       "      <td>0.203584</td>\n",
       "    </tr>\n",
       "    <tr>\n",
       "      <th>3</th>\n",
       "      <td>0.941284</td>\n",
       "      <td>0.695901</td>\n",
       "      <td>-0.061779</td>\n",
       "      <td>0.300887</td>\n",
       "      <td>-1.310443</td>\n",
       "      <td>-0.211527</td>\n",
       "      <td>0.141935</td>\n",
       "      <td>0.074011</td>\n",
       "      <td>0.731602</td>\n",
       "      <td>1.958859</td>\n",
       "      <td>0.337428</td>\n",
       "      <td>0.194121</td>\n",
       "      <td>0.203584</td>\n",
       "    </tr>\n",
       "    <tr>\n",
       "      <th>4</th>\n",
       "      <td>-0.035576</td>\n",
       "      <td>0.430653</td>\n",
       "      <td>-1.446844</td>\n",
       "      <td>0.474879</td>\n",
       "      <td>0.763100</td>\n",
       "      <td>-0.601428</td>\n",
       "      <td>-0.831120</td>\n",
       "      <td>-0.416507</td>\n",
       "      <td>-0.619495</td>\n",
       "      <td>-0.400879</td>\n",
       "      <td>-0.114365</td>\n",
       "      <td>0.528509</td>\n",
       "      <td>0.203584</td>\n",
       "    </tr>\n",
       "  </tbody>\n",
       "</table>\n",
       "</div>"
      ],
      "text/plain": [
       "   danceability    energy       key  loudness      mode  speechiness  \\\n",
       "0     -1.669937 -0.782531  0.492247 -1.262213 -1.310443     0.084024   \n",
       "1     -0.987388 -0.260731 -0.061779 -0.841342  0.763100    -0.502532   \n",
       "2     -1.394413 -1.404342  1.046273 -1.197084  0.763100    -0.526403   \n",
       "3      0.941284  0.695901 -0.061779  0.300887 -1.310443    -0.211527   \n",
       "4     -0.035576  0.430653 -1.446844  0.474879  0.763100    -0.601428   \n",
       "\n",
       "   acousticness  instrumentalness  liveness   valence     tempo  duration_ms  \\\n",
       "0     -0.602602         -0.158296 -0.488783 -1.480202 -0.864024    -0.953258   \n",
       "1     -0.464009          0.916222 -0.395861  0.678445  1.095251    -0.421314   \n",
       "2      0.996058         -0.145922 -0.501173 -1.065709  0.130838     0.127491   \n",
       "3      0.141935          0.074011  0.731602  1.958859  0.337428     0.194121   \n",
       "4     -0.831120         -0.416507 -0.619495 -0.400879 -0.114365     0.528509   \n",
       "\n",
       "   time_signature  \n",
       "0       -2.391835  \n",
       "1        0.203584  \n",
       "2        0.203584  \n",
       "3        0.203584  \n",
       "4        0.203584  "
      ]
     },
     "execution_count": 15,
     "metadata": {},
     "output_type": "execute_result"
    }
   ],
   "source": [
    "pd.DataFrame(X_prep,columns=X.columns).head()"
   ]
  },
  {
   "cell_type": "code",
   "execution_count": 16,
   "metadata": {},
   "outputs": [
    {
     "data": {
      "text/plain": [
       "11869"
      ]
     },
     "execution_count": 16,
     "metadata": {},
     "output_type": "execute_result"
    }
   ],
   "source": [
    "len(X_prep)"
   ]
  },
  {
   "cell_type": "markdown",
   "metadata": {},
   "source": [
    "#### Choosing k."
   ]
  },
  {
   "cell_type": "code",
   "execution_count": 17,
   "metadata": {},
   "outputs": [
    {
     "name": "stderr",
     "output_type": "stream",
     "text": [
      "c:\\Users\\dcast\\anaconda3\\Lib\\site-packages\\sklearn\\cluster\\_kmeans.py:870: FutureWarning: The default value of `n_init` will change from 10 to 'auto' in 1.4. Set the value of `n_init` explicitly to suppress the warning\n",
      "  warnings.warn(\n",
      "c:\\Users\\dcast\\anaconda3\\Lib\\site-packages\\sklearn\\cluster\\_kmeans.py:870: FutureWarning: The default value of `n_init` will change from 10 to 'auto' in 1.4. Set the value of `n_init` explicitly to suppress the warning\n",
      "  warnings.warn(\n",
      "c:\\Users\\dcast\\anaconda3\\Lib\\site-packages\\sklearn\\cluster\\_kmeans.py:870: FutureWarning: The default value of `n_init` will change from 10 to 'auto' in 1.4. Set the value of `n_init` explicitly to suppress the warning\n",
      "  warnings.warn(\n"
     ]
    },
    {
     "name": "stderr",
     "output_type": "stream",
     "text": [
      "c:\\Users\\dcast\\anaconda3\\Lib\\site-packages\\sklearn\\cluster\\_kmeans.py:870: FutureWarning: The default value of `n_init` will change from 10 to 'auto' in 1.4. Set the value of `n_init` explicitly to suppress the warning\n",
      "  warnings.warn(\n",
      "c:\\Users\\dcast\\anaconda3\\Lib\\site-packages\\sklearn\\cluster\\_kmeans.py:870: FutureWarning: The default value of `n_init` will change from 10 to 'auto' in 1.4. Set the value of `n_init` explicitly to suppress the warning\n",
      "  warnings.warn(\n",
      "c:\\Users\\dcast\\anaconda3\\Lib\\site-packages\\sklearn\\cluster\\_kmeans.py:870: FutureWarning: The default value of `n_init` will change from 10 to 'auto' in 1.4. Set the value of `n_init` explicitly to suppress the warning\n",
      "  warnings.warn(\n",
      "c:\\Users\\dcast\\anaconda3\\Lib\\site-packages\\sklearn\\cluster\\_kmeans.py:870: FutureWarning: The default value of `n_init` will change from 10 to 'auto' in 1.4. Set the value of `n_init` explicitly to suppress the warning\n",
      "  warnings.warn(\n",
      "c:\\Users\\dcast\\anaconda3\\Lib\\site-packages\\sklearn\\cluster\\_kmeans.py:870: FutureWarning: The default value of `n_init` will change from 10 to 'auto' in 1.4. Set the value of `n_init` explicitly to suppress the warning\n",
      "  warnings.warn(\n",
      "c:\\Users\\dcast\\anaconda3\\Lib\\site-packages\\sklearn\\cluster\\_kmeans.py:870: FutureWarning: The default value of `n_init` will change from 10 to 'auto' in 1.4. Set the value of `n_init` explicitly to suppress the warning\n",
      "  warnings.warn(\n",
      "c:\\Users\\dcast\\anaconda3\\Lib\\site-packages\\sklearn\\cluster\\_kmeans.py:870: FutureWarning: The default value of `n_init` will change from 10 to 'auto' in 1.4. Set the value of `n_init` explicitly to suppress the warning\n",
      "  warnings.warn(\n",
      "c:\\Users\\dcast\\anaconda3\\Lib\\site-packages\\sklearn\\cluster\\_kmeans.py:870: FutureWarning: The default value of `n_init` will change from 10 to 'auto' in 1.4. Set the value of `n_init` explicitly to suppress the warning\n",
      "  warnings.warn(\n",
      "c:\\Users\\dcast\\anaconda3\\Lib\\site-packages\\sklearn\\cluster\\_kmeans.py:870: FutureWarning: The default value of `n_init` will change from 10 to 'auto' in 1.4. Set the value of `n_init` explicitly to suppress the warning\n",
      "  warnings.warn(\n",
      "c:\\Users\\dcast\\anaconda3\\Lib\\site-packages\\sklearn\\cluster\\_kmeans.py:870: FutureWarning: The default value of `n_init` will change from 10 to 'auto' in 1.4. Set the value of `n_init` explicitly to suppress the warning\n",
      "  warnings.warn(\n",
      "c:\\Users\\dcast\\anaconda3\\Lib\\site-packages\\sklearn\\cluster\\_kmeans.py:870: FutureWarning: The default value of `n_init` will change from 10 to 'auto' in 1.4. Set the value of `n_init` explicitly to suppress the warning\n",
      "  warnings.warn(\n",
      "c:\\Users\\dcast\\anaconda3\\Lib\\site-packages\\sklearn\\cluster\\_kmeans.py:870: FutureWarning: The default value of `n_init` will change from 10 to 'auto' in 1.4. Set the value of `n_init` explicitly to suppress the warning\n",
      "  warnings.warn(\n",
      "c:\\Users\\dcast\\anaconda3\\Lib\\site-packages\\sklearn\\cluster\\_kmeans.py:870: FutureWarning: The default value of `n_init` will change from 10 to 'auto' in 1.4. Set the value of `n_init` explicitly to suppress the warning\n",
      "  warnings.warn(\n",
      "c:\\Users\\dcast\\anaconda3\\Lib\\site-packages\\sklearn\\cluster\\_kmeans.py:870: FutureWarning: The default value of `n_init` will change from 10 to 'auto' in 1.4. Set the value of `n_init` explicitly to suppress the warning\n",
      "  warnings.warn(\n",
      "c:\\Users\\dcast\\anaconda3\\Lib\\site-packages\\sklearn\\cluster\\_kmeans.py:870: FutureWarning: The default value of `n_init` will change from 10 to 'auto' in 1.4. Set the value of `n_init` explicitly to suppress the warning\n",
      "  warnings.warn(\n"
     ]
    },
    {
     "data": {
      "text/plain": [
       "Text(0.5, 1.0, 'Elbow Method showing the optimal k')"
      ]
     },
     "execution_count": 17,
     "metadata": {},
     "output_type": "execute_result"
    },
    {
     "data": {
      "image/png": "[encoded data removed]",
      "text/plain": [
       "<Figure size 1600x800 with 1 Axes>"
      ]
     },
     "metadata": {},
     "output_type": "display_data"
    }
   ],
   "source": [
    "K = range(2, 20)\n",
    "inertia = []\n",
    "\n",
    "for k in K:\n",
    "    kmeans = KMeans(n_clusters=k)\n",
    "    kmeans.fit(X_prep)\n",
    "    inertia.append(kmeans.inertia_)\n",
    "\n",
    "%matplotlib inline\n",
    "\n",
    "plt.figure(figsize=(16,8))\n",
    "plt.plot(K, inertia, 'bx-')\n",
    "plt.xlabel('k')\n",
    "plt.ylabel('inertia')\n",
    "plt.xticks(np.arange(min(K), max(K)+1, 1.0))\n",
    "plt.title('Elbow Method showing the optimal k')"
   ]
  },
  {
   "cell_type": "code",
   "execution_count": 19,
   "metadata": {},
   "outputs": [
    {
     "name": "stderr",
     "output_type": "stream",
     "text": [
      "c:\\Users\\dcast\\anaconda3\\Lib\\site-packages\\sklearn\\cluster\\_kmeans.py:870: FutureWarning: The default value of `n_init` will change from 10 to 'auto' in 1.4. Set the value of `n_init` explicitly to suppress the warning\n",
      "  warnings.warn(\n",
      "c:\\Users\\dcast\\anaconda3\\Lib\\site-packages\\sklearn\\cluster\\_kmeans.py:870: FutureWarning: The default value of `n_init` will change from 10 to 'auto' in 1.4. Set the value of `n_init` explicitly to suppress the warning\n",
      "  warnings.warn(\n",
      "c:\\Users\\dcast\\anaconda3\\Lib\\site-packages\\sklearn\\cluster\\_kmeans.py:870: FutureWarning: The default value of `n_init` will change from 10 to 'auto' in 1.4. Set the value of `n_init` explicitly to suppress the warning\n",
      "  warnings.warn(\n",
      "c:\\Users\\dcast\\anaconda3\\Lib\\site-packages\\sklearn\\cluster\\_kmeans.py:870: FutureWarning: The default value of `n_init` will change from 10 to 'auto' in 1.4. Set the value of `n_init` explicitly to suppress the warning\n",
      "  warnings.warn(\n",
      "c:\\Users\\dcast\\anaconda3\\Lib\\site-packages\\sklearn\\cluster\\_kmeans.py:870: FutureWarning: The default value of `n_init` will change from 10 to 'auto' in 1.4. Set the value of `n_init` explicitly to suppress the warning\n",
      "  warnings.warn(\n",
      "c:\\Users\\dcast\\anaconda3\\Lib\\site-packages\\sklearn\\cluster\\_kmeans.py:870: FutureWarning: The default value of `n_init` will change from 10 to 'auto' in 1.4. Set the value of `n_init` explicitly to suppress the warning\n",
      "  warnings.warn(\n",
      "c:\\Users\\dcast\\anaconda3\\Lib\\site-packages\\sklearn\\cluster\\_kmeans.py:870: FutureWarning: The default value of `n_init` will change from 10 to 'auto' in 1.4. Set the value of `n_init` explicitly to suppress the warning\n",
      "  warnings.warn(\n",
      "c:\\Users\\dcast\\anaconda3\\Lib\\site-packages\\sklearn\\cluster\\_kmeans.py:870: FutureWarning: The default value of `n_init` will change from 10 to 'auto' in 1.4. Set the value of `n_init` explicitly to suppress the warning\n",
      "  warnings.warn(\n",
      "c:\\Users\\dcast\\anaconda3\\Lib\\site-packages\\sklearn\\cluster\\_kmeans.py:870: FutureWarning: The default value of `n_init` will change from 10 to 'auto' in 1.4. Set the value of `n_init` explicitly to suppress the warning\n",
      "  warnings.warn(\n",
      "c:\\Users\\dcast\\anaconda3\\Lib\\site-packages\\sklearn\\cluster\\_kmeans.py:870: FutureWarning: The default value of `n_init` will change from 10 to 'auto' in 1.4. Set the value of `n_init` explicitly to suppress the warning\n",
      "  warnings.warn(\n",
      "c:\\Users\\dcast\\anaconda3\\Lib\\site-packages\\sklearn\\cluster\\_kmeans.py:870: FutureWarning: The default value of `n_init` will change from 10 to 'auto' in 1.4. Set the value of `n_init` explicitly to suppress the warning\n",
      "  warnings.warn(\n",
      "c:\\Users\\dcast\\anaconda3\\Lib\\site-packages\\sklearn\\cluster\\_kmeans.py:870: FutureWarning: The default value of `n_init` will change from 10 to 'auto' in 1.4. Set the value of `n_init` explicitly to suppress the warning\n",
      "  warnings.warn(\n",
      "c:\\Users\\dcast\\anaconda3\\Lib\\site-packages\\sklearn\\cluster\\_kmeans.py:870: FutureWarning: The default value of `n_init` will change from 10 to 'auto' in 1.4. Set the value of `n_init` explicitly to suppress the warning\n",
      "  warnings.warn(\n",
      "c:\\Users\\dcast\\anaconda3\\Lib\\site-packages\\sklearn\\cluster\\_kmeans.py:870: FutureWarning: The default value of `n_init` will change from 10 to 'auto' in 1.4. Set the value of `n_init` explicitly to suppress the warning\n",
      "  warnings.warn(\n",
      "c:\\Users\\dcast\\anaconda3\\Lib\\site-packages\\sklearn\\cluster\\_kmeans.py:870: FutureWarning: The default value of `n_init` will change from 10 to 'auto' in 1.4. Set the value of `n_init` explicitly to suppress the warning\n",
      "  warnings.warn(\n",
      "c:\\Users\\dcast\\anaconda3\\Lib\\site-packages\\sklearn\\cluster\\_kmeans.py:870: FutureWarning: The default value of `n_init` will change from 10 to 'auto' in 1.4. Set the value of `n_init` explicitly to suppress the warning\n",
      "  warnings.warn(\n",
      "c:\\Users\\dcast\\anaconda3\\Lib\\site-packages\\sklearn\\cluster\\_kmeans.py:870: FutureWarning: The default value of `n_init` will change from 10 to 'auto' in 1.4. Set the value of `n_init` explicitly to suppress the warning\n",
      "  warnings.warn(\n",
      "c:\\Users\\dcast\\anaconda3\\Lib\\site-packages\\sklearn\\cluster\\_kmeans.py:870: FutureWarning: The default value of `n_init` will change from 10 to 'auto' in 1.4. Set the value of `n_init` explicitly to suppress the warning\n",
      "  warnings.warn(\n"
     ]
    },
    {
     "data": {
      "text/plain": [
       "Text(0.5, 1.0, 'Silhouette score showing the optimal k')"
      ]
     },
     "execution_count": 19,
     "metadata": {},
     "output_type": "execute_result"
    },
    {
     "data": {
      "image/png": "[encoded data removed]",
      "text/plain": [
       "<Figure size 1600x800 with 1 Axes>"
      ]
     },
     "metadata": {},
     "output_type": "display_data"
    }
   ],
   "source": [
    "from sklearn.metrics import silhouette_score\n",
    "K = range(2, 20)\n",
    "silhouette = []\n",
    "\n",
    "for k in K:\n",
    "    kmeans = KMeans(n_clusters=k)\n",
    "    kmeans.fit(X_prep)\n",
    "    silhouette.append(silhouette_score(X_prep, kmeans.predict(X_prep)))\n",
    "\n",
    "\n",
    "plt.figure(figsize=(16,8))\n",
    "plt.plot(K, silhouette, 'bx-')\n",
    "plt.xlabel('k')\n",
    "plt.ylabel('silhouette score')\n",
    "plt.xticks(np.arange(min(K), max(K)+1, 1.0))\n",
    "plt.title('Silhouette score showing the optimal k')"
   ]
  },
  {
   "cell_type": "markdown",
   "metadata": {},
   "source": [
    "#### Clustering with k means."
   ]
  },
  {
   "cell_type": "code",
   "execution_count": 64,
   "metadata": {},
   "outputs": [
    {
     "name": "stderr",
     "output_type": "stream",
     "text": [
      "c:\\Users\\dcast\\anaconda3\\Lib\\site-packages\\sklearn\\cluster\\_kmeans.py:870: FutureWarning: The default value of `n_init` will change from 10 to 'auto' in 1.4. Set the value of `n_init` explicitly to suppress the warning\n",
      "  warnings.warn(\n"
     ]
    },
    {
     "data": {
      "text/html": [
       "<style>#sk-container-id-3 {color: black;background-color: white;}#sk-container-id-3 pre{padding: 0;}#sk-container-id-3 div.sk-toggleable {background-color: white;}#sk-container-id-3 label.sk-toggleable__label {cursor: pointer;display: block;width: 100%;margin-bottom: 0;padding: 0.3em;box-sizing: border-box;text-align: center;}#sk-container-id-3 label.sk-toggleable__label-arrow:before {content: \"▸\";float: left;margin-right: 0.25em;color: #696969;}#sk-container-id-3 label.sk-toggleable__label-arrow:hover:before {color: black;}#sk-container-id-3 div.sk-estimator:hover label.sk-toggleable__label-arrow:before {color: black;}#sk-container-id-3 div.sk-toggleable__content {max-height: 0;max-width: 0;overflow: hidden;text-align: left;background-color: #f0f8ff;}#sk-container-id-3 div.sk-toggleable__content pre {margin: 0.2em;color: black;border-radius: 0.25em;background-color: #f0f8ff;}#sk-container-id-3 input.sk-toggleable__control:checked~div.sk-toggleable__content {max-height: 200px;max-width: 100%;overflow: auto;}#sk-container-id-3 input.sk-toggleable__control:checked~label.sk-toggleable__label-arrow:before {content: \"▾\";}#sk-container-id-3 div.sk-estimator input.sk-toggleable__control:checked~label.sk-toggleable__label {background-color: #d4ebff;}#sk-container-id-3 div.sk-label input.sk-toggleable__control:checked~label.sk-toggleable__label {background-color: #d4ebff;}#sk-container-id-3 input.sk-hidden--visually {border: 0;clip: rect(1px 1px 1px 1px);clip: rect(1px, 1px, 1px, 1px);height: 1px;margin: -1px;overflow: hidden;padding: 0;position: absolute;width: 1px;}#sk-container-id-3 div.sk-estimator {font-family: monospace;background-color: #f0f8ff;border: 1px dotted black;border-radius: 0.25em;box-sizing: border-box;margin-bottom: 0.5em;}#sk-container-id-3 div.sk-estimator:hover {background-color: #d4ebff;}#sk-container-id-3 div.sk-parallel-item::after {content: \"\";width: 100%;border-bottom: 1px solid gray;flex-grow: 1;}#sk-container-id-3 div.sk-label:hover label.sk-toggleable__label {background-color: #d4ebff;}#sk-container-id-3 div.sk-serial::before {content: \"\";position: absolute;border-left: 1px solid gray;box-sizing: border-box;top: 0;bottom: 0;left: 50%;z-index: 0;}#sk-container-id-3 div.sk-serial {display: flex;flex-direction: column;align-items: center;background-color: white;padding-right: 0.2em;padding-left: 0.2em;position: relative;}#sk-container-id-3 div.sk-item {position: relative;z-index: 1;}#sk-container-id-3 div.sk-parallel {display: flex;align-items: stretch;justify-content: center;background-color: white;position: relative;}#sk-container-id-3 div.sk-item::before, #sk-container-id-3 div.sk-parallel-item::before {content: \"\";position: absolute;border-left: 1px solid gray;box-sizing: border-box;top: 0;bottom: 0;left: 50%;z-index: -1;}#sk-container-id-3 div.sk-parallel-item {display: flex;flex-direction: column;z-index: 1;position: relative;background-color: white;}#sk-container-id-3 div.sk-parallel-item:first-child::after {align-self: flex-end;width: 50%;}#sk-container-id-3 div.sk-parallel-item:last-child::after {align-self: flex-start;width: 50%;}#sk-container-id-3 div.sk-parallel-item:only-child::after {width: 0;}#sk-container-id-3 div.sk-dashed-wrapped {border: 1px dashed gray;margin: 0 0.4em 0.5em 0.4em;box-sizing: border-box;padding-bottom: 0.4em;background-color: white;}#sk-container-id-3 div.sk-label label {font-family: monospace;font-weight: bold;display: inline-block;line-height: 1.2em;}#sk-container-id-3 div.sk-label-container {text-align: center;}#sk-container-id-3 div.sk-container {/* jupyter's `normalize.less` sets `[hidden] { display: none; }` but bootstrap.min.css set `[hidden] { display: none !important; }` so we also need the `!important` here to be able to override the default hidden behavior on the sphinx rendered scikit-learn.org. See: https://github.com/scikit-learn/scikit-learn/issues/21755 */display: inline-block !important;position: relative;}#sk-container-id-3 div.sk-text-repr-fallback {display: none;}</style><div id=\"sk-container-id-3\" class=\"sk-top-container\"><div class=\"sk-text-repr-fallback\"><pre>KMeans(n_clusters=10)</pre><b>In a Jupyter environment, please rerun this cell to show the HTML representation or trust the notebook. <br />On GitHub, the HTML representation is unable to render, please try loading this page with nbviewer.org.</b></div><div class=\"sk-container\" hidden><div class=\"sk-item\"><div class=\"sk-estimator sk-toggleable\"><input class=\"sk-toggleable__control sk-hidden--visually\" id=\"sk-estimator-id-3\" type=\"checkbox\" checked><label for=\"sk-estimator-id-3\" class=\"sk-toggleable__label sk-toggleable__label-arrow\">KMeans</label><div class=\"sk-toggleable__content\"><pre>KMeans(n_clusters=10)</pre></div></div></div></div></div>"
      ],
      "text/plain": [
       "KMeans(n_clusters=10)"
      ]
     },
     "execution_count": 64,
     "metadata": {},
     "output_type": "execute_result"
    }
   ],
   "source": [
    "kmeans = KMeans(n_clusters=10)\n",
    "kmeans.fit(X_prep)"
   ]
  },
  {
   "cell_type": "code",
   "execution_count": 65,
   "metadata": {},
   "outputs": [],
   "source": [
    "# Assigning the clusters:\n",
    "clusters = kmeans.predict(X_prep)"
   ]
  },
  {
   "cell_type": "code",
   "execution_count": 66,
   "metadata": {},
   "outputs": [
    {
     "data": {
      "text/plain": [
       "0    1469\n",
       "1     208\n",
       "2     616\n",
       "3    1932\n",
       "4    1882\n",
       "5      91\n",
       "6     715\n",
       "7     664\n",
       "8    2413\n",
       "9    1879\n",
       "dtype: int64"
      ]
     },
     "execution_count": 66,
     "metadata": {},
     "output_type": "execute_result"
    }
   ],
   "source": [
    "pd.Series(clusters).value_counts().sort_index()"
   ]
  },
  {
   "cell_type": "code",
   "execution_count": 68,
   "metadata": {},
   "outputs": [],
   "source": [
    "df_audio_ft_cl = df_audio_ft"
   ]
  },
  {
   "cell_type": "code",
   "execution_count": 69,
   "metadata": {},
   "outputs": [],
   "source": [
    "df_audio_ft_cl['cluster'] = clusters"
   ]
  },
  {
   "cell_type": "code",
   "execution_count": null,
   "metadata": {},
   "outputs": [],
   "source": [
    "# df_audio_ft_cl"
   ]
  },
  {
   "cell_type": "code",
   "execution_count": 55,
   "metadata": {},
   "outputs": [],
   "source": [
    "# df_audio_ft_cl[df_audio_ft_cl['cluster'] == 4]"
   ]
  },
  {
   "cell_type": "code",
   "execution_count": null,
   "metadata": {},
   "outputs": [],
   "source": [
    "# df_audio_ft_cl.to_csv('df_audio_ft_cl.csv')"
   ]
  },
  {
   "cell_type": "markdown",
   "metadata": {},
   "source": [
    "# Gnod project | Part 5."
   ]
  },
  {
   "cell_type": "markdown",
   "metadata": {},
   "source": [
    "#### Authentication."
   ]
  },
  {
   "cell_type": "code",
   "execution_count": null,
   "metadata": {},
   "outputs": [],
   "source": [
    "secrets_file = open(\"Spotify.txt\",\"r\")"
   ]
  },
  {
   "cell_type": "code",
   "execution_count": null,
   "metadata": {},
   "outputs": [],
   "source": [
    "string = secrets_file.read()"
   ]
  },
  {
   "cell_type": "code",
   "execution_count": null,
   "metadata": {},
   "outputs": [],
   "source": [
    "secrets_dict={}\n",
    "for line in string.split('\\n'):\n",
    "    if len(line) > 0:\n",
    "        secrets_dict[line.split(':')[0]]=line.split(':')[1].strip()"
   ]
  },
  {
   "cell_type": "code",
   "execution_count": null,
   "metadata": {},
   "outputs": [],
   "source": [
    "import spotipy\n",
    "from spotipy.oauth2 import SpotifyClientCredentials\n",
    "\n",
    "sp = spotipy.Spotify(auth_manager=SpotifyClientCredentials(client_id=secrets_dict['clientid'],\n",
    "                                                           client_secret=secrets_dict['clientsecret']))"
   ]
  },
  {
   "cell_type": "markdown",
   "metadata": {},
   "source": [
    "#### Getting info for one song (the first on Spotify search)."
   ]
  },
  {
   "cell_type": "code",
   "execution_count": null,
   "metadata": {},
   "outputs": [],
   "source": [
    "input_song = 'Angie'"
   ]
  },
  {
   "cell_type": "code",
   "execution_count": null,
   "metadata": {},
   "outputs": [],
   "source": [
    "result = sp.search(q=input_song, limit=1)"
   ]
  },
  {
   "cell_type": "code",
   "execution_count": null,
   "metadata": {},
   "outputs": [],
   "source": [
    "# result"
   ]
  },
  {
   "cell_type": "code",
   "execution_count": null,
   "metadata": {},
   "outputs": [],
   "source": [
    "track = json_normalize(result[\"tracks\"][\"items\"])"
   ]
  },
  {
   "cell_type": "code",
   "execution_count": 57,
   "metadata": {},
   "outputs": [],
   "source": [
    "# track.columns"
   ]
  },
  {
   "cell_type": "code",
   "execution_count": null,
   "metadata": {},
   "outputs": [],
   "source": [
    "track_audioft = sp.audio_features(track['id'])"
   ]
  },
  {
   "cell_type": "code",
   "execution_count": null,
   "metadata": {},
   "outputs": [],
   "source": [
    "track_audioft_df = json_normalize(track_audioft)"
   ]
  },
  {
   "cell_type": "code",
   "execution_count": null,
   "metadata": {},
   "outputs": [
    {
     "data": {
      "text/html": [
       "<div>\n",
       "<style scoped>\n",
       "    .dataframe tbody tr th:only-of-type {\n",
       "        vertical-align: middle;\n",
       "    }\n",
       "\n",
       "    .dataframe tbody tr th {\n",
       "        vertical-align: top;\n",
       "    }\n",
       "\n",
       "    .dataframe thead th {\n",
       "        text-align: right;\n",
       "    }\n",
       "</style>\n",
       "<table border=\"1\" class=\"dataframe\">\n",
       "  <thead>\n",
       "    <tr style=\"text-align: right;\">\n",
       "      <th></th>\n",
       "      <th>danceability</th>\n",
       "      <th>energy</th>\n",
       "      <th>key</th>\n",
       "      <th>loudness</th>\n",
       "      <th>mode</th>\n",
       "      <th>speechiness</th>\n",
       "      <th>acousticness</th>\n",
       "      <th>instrumentalness</th>\n",
       "      <th>liveness</th>\n",
       "      <th>valence</th>\n",
       "      <th>tempo</th>\n",
       "      <th>type</th>\n",
       "      <th>id</th>\n",
       "      <th>uri</th>\n",
       "      <th>track_href</th>\n",
       "      <th>analysis_url</th>\n",
       "      <th>duration_ms</th>\n",
       "      <th>time_signature</th>\n",
       "    </tr>\n",
       "  </thead>\n",
       "  <tbody>\n",
       "    <tr>\n",
       "      <th>0</th>\n",
       "      <td>0.429</td>\n",
       "      <td>0.554</td>\n",
       "      <td>9</td>\n",
       "      <td>-6.128</td>\n",
       "      <td>0</td>\n",
       "      <td>0.0291</td>\n",
       "      <td>0.67</td>\n",
       "      <td>0.000152</td>\n",
       "      <td>0.105</td>\n",
       "      <td>0.407</td>\n",
       "      <td>136.302</td>\n",
       "      <td>audio_features</td>\n",
       "      <td>1GcVa4jFySlun4jLSuMhiq</td>\n",
       "      <td>spotify:track:1GcVa4jFySlun4jLSuMhiq</td>\n",
       "      <td>https://api.spotify.com/v1/tracks/1GcVa4jFySlu...</td>\n",
       "      <td>https://api.spotify.com/v1/audio-analysis/1GcV...</td>\n",
       "      <td>272000</td>\n",
       "      <td>4</td>\n",
       "    </tr>\n",
       "  </tbody>\n",
       "</table>\n",
       "</div>"
      ],
      "text/plain": [
       "   danceability  energy  key  loudness  mode  speechiness  acousticness  \\\n",
       "0         0.429   0.554    9    -6.128     0       0.0291          0.67   \n",
       "\n",
       "   instrumentalness  liveness  valence    tempo            type  \\\n",
       "0          0.000152     0.105    0.407  136.302  audio_features   \n",
       "\n",
       "                       id                                   uri  \\\n",
       "0  1GcVa4jFySlun4jLSuMhiq  spotify:track:1GcVa4jFySlun4jLSuMhiq   \n",
       "\n",
       "                                          track_href  \\\n",
       "0  https://api.spotify.com/v1/tracks/1GcVa4jFySlu...   \n",
       "\n",
       "                                        analysis_url  duration_ms  \\\n",
       "0  https://api.spotify.com/v1/audio-analysis/1GcV...       272000   \n",
       "\n",
       "   time_signature  \n",
       "0               4  "
      ]
     },
     "execution_count": 38,
     "metadata": {},
     "output_type": "execute_result"
    }
   ],
   "source": [
    "track_audioft_df"
   ]
  },
  {
   "cell_type": "code",
   "execution_count": null,
   "metadata": {},
   "outputs": [],
   "source": [
    "track_df = pd.merge(left=track,\n",
    "                        right=track_audioft_df,\n",
    "                        how='inner',\n",
    "                        left_on='id',\n",
    "                        right_on='id')"
   ]
  },
  {
   "cell_type": "code",
   "execution_count": null,
   "metadata": {},
   "outputs": [
    {
     "data": {
      "text/html": [
       "<div>\n",
       "<style scoped>\n",
       "    .dataframe tbody tr th:only-of-type {\n",
       "        vertical-align: middle;\n",
       "    }\n",
       "\n",
       "    .dataframe tbody tr th {\n",
       "        vertical-align: top;\n",
       "    }\n",
       "\n",
       "    .dataframe thead th {\n",
       "        text-align: right;\n",
       "    }\n",
       "</style>\n",
       "<table border=\"1\" class=\"dataframe\">\n",
       "  <thead>\n",
       "    <tr style=\"text-align: right;\">\n",
       "      <th></th>\n",
       "      <th>artists</th>\n",
       "      <th>available_markets</th>\n",
       "      <th>disc_number</th>\n",
       "      <th>duration_ms_x</th>\n",
       "      <th>explicit</th>\n",
       "      <th>href</th>\n",
       "      <th>id</th>\n",
       "      <th>is_local</th>\n",
       "      <th>name</th>\n",
       "      <th>popularity</th>\n",
       "      <th>...</th>\n",
       "      <th>instrumentalness</th>\n",
       "      <th>liveness</th>\n",
       "      <th>valence</th>\n",
       "      <th>tempo</th>\n",
       "      <th>type_y</th>\n",
       "      <th>uri_y</th>\n",
       "      <th>track_href</th>\n",
       "      <th>analysis_url</th>\n",
       "      <th>duration_ms_y</th>\n",
       "      <th>time_signature</th>\n",
       "    </tr>\n",
       "  </thead>\n",
       "  <tbody>\n",
       "    <tr>\n",
       "      <th>0</th>\n",
       "      <td>[{'external_urls': {'spotify': 'https://open.s...</td>\n",
       "      <td>[AR, AU, AT, BE, BO, BR, BG, CA, CL, CO, CR, C...</td>\n",
       "      <td>1</td>\n",
       "      <td>272000</td>\n",
       "      <td>False</td>\n",
       "      <td>https://api.spotify.com/v1/tracks/1GcVa4jFySlu...</td>\n",
       "      <td>1GcVa4jFySlun4jLSuMhiq</td>\n",
       "      <td>False</td>\n",
       "      <td>Angie - Remastered 2009</td>\n",
       "      <td>74</td>\n",
       "      <td>...</td>\n",
       "      <td>0.000152</td>\n",
       "      <td>0.105</td>\n",
       "      <td>0.407</td>\n",
       "      <td>136.302</td>\n",
       "      <td>audio_features</td>\n",
       "      <td>spotify:track:1GcVa4jFySlun4jLSuMhiq</td>\n",
       "      <td>https://api.spotify.com/v1/tracks/1GcVa4jFySlu...</td>\n",
       "      <td>https://api.spotify.com/v1/audio-analysis/1GcV...</td>\n",
       "      <td>272000</td>\n",
       "      <td>4</td>\n",
       "    </tr>\n",
       "  </tbody>\n",
       "</table>\n",
       "<p>1 rows × 46 columns</p>\n",
       "</div>"
      ],
      "text/plain": [
       "                                             artists  \\\n",
       "0  [{'external_urls': {'spotify': 'https://open.s...   \n",
       "\n",
       "                                   available_markets  disc_number  \\\n",
       "0  [AR, AU, AT, BE, BO, BR, BG, CA, CL, CO, CR, C...            1   \n",
       "\n",
       "   duration_ms_x  explicit                                               href  \\\n",
       "0         272000     False  https://api.spotify.com/v1/tracks/1GcVa4jFySlu...   \n",
       "\n",
       "                       id  is_local                     name  popularity  ...  \\\n",
       "0  1GcVa4jFySlun4jLSuMhiq     False  Angie - Remastered 2009          74  ...   \n",
       "\n",
       "  instrumentalness  liveness valence    tempo          type_y  \\\n",
       "0         0.000152     0.105   0.407  136.302  audio_features   \n",
       "\n",
       "                                  uri_y  \\\n",
       "0  spotify:track:1GcVa4jFySlun4jLSuMhiq   \n",
       "\n",
       "                                          track_href  \\\n",
       "0  https://api.spotify.com/v1/tracks/1GcVa4jFySlu...   \n",
       "\n",
       "                                        analysis_url duration_ms_y  \\\n",
       "0  https://api.spotify.com/v1/audio-analysis/1GcV...        272000   \n",
       "\n",
       "  time_signature  \n",
       "0              4  \n",
       "\n",
       "[1 rows x 46 columns]"
      ]
     },
     "execution_count": 40,
     "metadata": {},
     "output_type": "execute_result"
    }
   ],
   "source": [
    "track_df"
   ]
  },
  {
   "cell_type": "markdown",
   "metadata": {},
   "source": [
    "#### Scaling and clustering."
   ]
  },
  {
   "cell_type": "code",
   "execution_count": null,
   "metadata": {},
   "outputs": [],
   "source": [
    "X_track = track_df[['danceability', 'energy', 'key', 'loudness', 'mode', 'speechiness', 'acousticness', 'instrumentalness', 'liveness', 'valence', 'tempo', 'duration_ms_x', 'time_signature']]"
   ]
  },
  {
   "cell_type": "code",
   "execution_count": null,
   "metadata": {},
   "outputs": [],
   "source": [
    "X_track = X_track.rename(columns={'duration_ms_x': 'duration_ms'})"
   ]
  },
  {
   "cell_type": "code",
   "execution_count": null,
   "metadata": {},
   "outputs": [],
   "source": [
    "X_track_prep = scaler.transform(X_track)"
   ]
  },
  {
   "cell_type": "code",
   "execution_count": null,
   "metadata": {},
   "outputs": [],
   "source": [
    "cluster = kmeans.predict(X_track_prep)"
   ]
  },
  {
   "cell_type": "code",
   "execution_count": null,
   "metadata": {},
   "outputs": [
    {
     "data": {
      "text/plain": [
       "array([2])"
      ]
     },
     "execution_count": 47,
     "metadata": {},
     "output_type": "execute_result"
    }
   ],
   "source": [
    "cluster"
   ]
  },
  {
   "cell_type": "code",
   "execution_count": 58,
   "metadata": {},
   "outputs": [],
   "source": [
    "# df_audio_ft_cl_filt = df_audio_ft_cl[df_audio_ft_cl['cluster']==cluster[0]].reset_index()"
   ]
  },
  {
   "cell_type": "code",
   "execution_count": 59,
   "metadata": {},
   "outputs": [],
   "source": [
    "# ran = randint(0, len(df_audio_ft_cl_filt))\n",
    "# df_audio_ft_cl_filt['track_name'][ran]"
   ]
  },
  {
   "cell_type": "markdown",
   "metadata": {},
   "source": [
    "#### A function to do the clustering for a new song."
   ]
  },
  {
   "cell_type": "code",
   "execution_count": 30,
   "metadata": {},
   "outputs": [],
   "source": [
    "def user_track_cluster (song_name):\n",
    "#Authentication\n",
    "    secrets_file = open(\"Spotify.txt\",\"r\")\n",
    "    string = secrets_file.read()\n",
    "    secrets_dict={}\n",
    "    for line in string.split('\\n'):\n",
    "        if len(line) > 0:\n",
    "            secrets_dict[line.split(':')[0]]=line.split(':')[1].strip()\n",
    "    import spotipy\n",
    "    from spotipy.oauth2 import SpotifyClientCredentials\n",
    "    sp = spotipy.Spotify(auth_manager=SpotifyClientCredentials(client_id=secrets_dict['clientid'],\n",
    "                                                            client_secret=secrets_dict['clientsecret']))\n",
    "\n",
    "# Getting track info\n",
    "    result = sp.search(q=song_name, limit=1)\n",
    "    track = json_normalize(result[\"tracks\"][\"items\"])\n",
    "\n",
    "# Getting track audio features.\n",
    "    track_audioft = sp.audio_features(track['id'])\n",
    "    track_audioft_df = json_normalize(track_audioft)\n",
    "\n",
    "# Merging\n",
    "    track_df = pd.merge(left=track, right=track_audioft_df, how='inner', left_on='id', right_on='id')\n",
    "\n",
    "#Scaling\n",
    "    X_track = track_df[['danceability', 'energy', 'key', 'loudness', 'mode', 'speechiness', 'acousticness', 'instrumentalness', 'liveness', 'valence', 'tempo', 'duration_ms_x', 'time_signature']]\n",
    "    X_track = X_track.rename(columns={'duration_ms_x': 'duration_ms'})\n",
    "    X_track_prep = scaler.transform(X_track)\n",
    "\n",
    "#Clustering track\n",
    "    cluster = kmeans.predict(X_track_prep)\n",
    "\n",
    "    return cluster"
   ]
  },
  {
   "cell_type": "markdown",
   "metadata": {},
   "source": [
    "#### Recommending."
   ]
  },
  {
   "cell_type": "code",
   "execution_count": 28,
   "metadata": {},
   "outputs": [],
   "source": [
    "hot = pd.read_csv('top100_popvortex_20230905.csv')"
   ]
  },
  {
   "cell_type": "code",
   "execution_count": 76,
   "metadata": {},
   "outputs": [
    {
     "name": "stdout",
     "output_type": "stream",
     "text": [
      "User input song:  viva la vida\n",
      "You could try: Please Don't Go , uri: spotify:track:3cNjgVBKTJ1SvKhunrCdVy\n"
     ]
    }
   ],
   "source": [
    "input_song = input('Enter a song name: ')\n",
    "print('User input song: ', input_song)\n",
    "\n",
    "from random import randint\n",
    "\n",
    "if input_song in hot['title'].values:\n",
    "    ran = randint(0,len(hot))\n",
    "    print('You could try: ' + hot['title'][ran])\n",
    "else:\n",
    "    cluster = user_track_cluster(input_song)\n",
    "    df_audio_ft_cl_filt = df_audio_ft_cl[df_audio_ft_cl['cluster']==cluster[0]].reset_index()\n",
    "    ran = randint(0, len(df_audio_ft_cl_filt))\n",
    "    track_name = df_audio_ft_cl_filt['track_name'][ran]\n",
    "    track_uri = df_audio_ft_cl_filt['uri'][ran]\n",
    "    print('You could try:', track_name, ',', 'uri:', track_uri)"
   ]
  },
  {
   "cell_type": "code",
   "execution_count": 78,
   "metadata": {},
   "outputs": [
    {
     "name": "stdout",
     "output_type": "stream",
     "text": [
      "Input song cluster:  8\n",
      "Recommended song cluster:  4310     8\n",
      "11791    8\n",
      "Name: cluster, dtype: int32\n"
     ]
    }
   ],
   "source": [
    "print('Input song cluster: ', cluster[0])\n",
    "print('Recommended song cluster: ', df_audio_ft_cl[df_audio_ft_cl['track_name'] == track_name]['cluster'])"
   ]
  },
  {
   "cell_type": "code",
   "execution_count": 79,
   "metadata": {},
   "outputs": [
    {
     "data": {
      "text/html": [
       "<div>\n",
       "<style scoped>\n",
       "    .dataframe tbody tr th:only-of-type {\n",
       "        vertical-align: middle;\n",
       "    }\n",
       "\n",
       "    .dataframe tbody tr th {\n",
       "        vertical-align: top;\n",
       "    }\n",
       "\n",
       "    .dataframe thead th {\n",
       "        text-align: right;\n",
       "    }\n",
       "</style>\n",
       "<table border=\"1\" class=\"dataframe\">\n",
       "  <thead>\n",
       "    <tr style=\"text-align: right;\">\n",
       "      <th></th>\n",
       "      <th>track_name</th>\n",
       "      <th>song_id</th>\n",
       "      <th>artist_name</th>\n",
       "      <th>artist_id</th>\n",
       "      <th>danceability</th>\n",
       "      <th>energy</th>\n",
       "      <th>key</th>\n",
       "      <th>loudness</th>\n",
       "      <th>mode</th>\n",
       "      <th>speechiness</th>\n",
       "      <th>...</th>\n",
       "      <th>instrumentalness</th>\n",
       "      <th>liveness</th>\n",
       "      <th>valence</th>\n",
       "      <th>tempo</th>\n",
       "      <th>uri</th>\n",
       "      <th>track_href</th>\n",
       "      <th>analysis_url</th>\n",
       "      <th>duration_ms</th>\n",
       "      <th>time_signature</th>\n",
       "      <th>cluster</th>\n",
       "    </tr>\n",
       "  </thead>\n",
       "  <tbody>\n",
       "    <tr>\n",
       "      <th>4310</th>\n",
       "      <td>Please Don't Go</td>\n",
       "      <td>6jg5SRvdGxvJ0DzNV0UqEK</td>\n",
       "      <td>Mike Posner</td>\n",
       "      <td>2KsP6tYLJlTBvSUxnwlVWa</td>\n",
       "      <td>0.699</td>\n",
       "      <td>0.882</td>\n",
       "      <td>4</td>\n",
       "      <td>-3.896</td>\n",
       "      <td>0</td>\n",
       "      <td>0.0311</td>\n",
       "      <td>...</td>\n",
       "      <td>0.054400</td>\n",
       "      <td>0.130</td>\n",
       "      <td>0.657</td>\n",
       "      <td>120.016</td>\n",
       "      <td>spotify:track:6jg5SRvdGxvJ0DzNV0UqEK</td>\n",
       "      <td>https://api.spotify.com/v1/tracks/6jg5SRvdGxvJ...</td>\n",
       "      <td>https://api.spotify.com/v1/audio-analysis/6jg5...</td>\n",
       "      <td>196813</td>\n",
       "      <td>4</td>\n",
       "      <td>8</td>\n",
       "    </tr>\n",
       "    <tr>\n",
       "      <th>11791</th>\n",
       "      <td>Please Don't Go</td>\n",
       "      <td>3cNjgVBKTJ1SvKhunrCdVy</td>\n",
       "      <td>Joel Adams</td>\n",
       "      <td>36jaGQtMj5UWD0eO1fCVdD</td>\n",
       "      <td>0.513</td>\n",
       "      <td>0.768</td>\n",
       "      <td>4</td>\n",
       "      <td>-4.868</td>\n",
       "      <td>0</td>\n",
       "      <td>0.0587</td>\n",
       "      <td>...</td>\n",
       "      <td>0.000019</td>\n",
       "      <td>0.294</td>\n",
       "      <td>0.235</td>\n",
       "      <td>84.264</td>\n",
       "      <td>spotify:track:3cNjgVBKTJ1SvKhunrCdVy</td>\n",
       "      <td>https://api.spotify.com/v1/tracks/3cNjgVBKTJ1S...</td>\n",
       "      <td>https://api.spotify.com/v1/audio-analysis/3cNj...</td>\n",
       "      <td>210580</td>\n",
       "      <td>4</td>\n",
       "      <td>8</td>\n",
       "    </tr>\n",
       "  </tbody>\n",
       "</table>\n",
       "<p>2 rows × 21 columns</p>\n",
       "</div>"
      ],
      "text/plain": [
       "            track_name                 song_id  artist_name  \\\n",
       "4310   Please Don't Go  6jg5SRvdGxvJ0DzNV0UqEK  Mike Posner   \n",
       "11791  Please Don't Go  3cNjgVBKTJ1SvKhunrCdVy   Joel Adams   \n",
       "\n",
       "                    artist_id  danceability  energy  key  loudness  mode  \\\n",
       "4310   2KsP6tYLJlTBvSUxnwlVWa         0.699   0.882    4    -3.896     0   \n",
       "11791  36jaGQtMj5UWD0eO1fCVdD         0.513   0.768    4    -4.868     0   \n",
       "\n",
       "       speechiness  ...  instrumentalness  liveness  valence    tempo  \\\n",
       "4310        0.0311  ...          0.054400     0.130    0.657  120.016   \n",
       "11791       0.0587  ...          0.000019     0.294    0.235   84.264   \n",
       "\n",
       "                                        uri  \\\n",
       "4310   spotify:track:6jg5SRvdGxvJ0DzNV0UqEK   \n",
       "11791  spotify:track:3cNjgVBKTJ1SvKhunrCdVy   \n",
       "\n",
       "                                              track_href  \\\n",
       "4310   https://api.spotify.com/v1/tracks/6jg5SRvdGxvJ...   \n",
       "11791  https://api.spotify.com/v1/tracks/3cNjgVBKTJ1S...   \n",
       "\n",
       "                                            analysis_url duration_ms  \\\n",
       "4310   https://api.spotify.com/v1/audio-analysis/6jg5...      196813   \n",
       "11791  https://api.spotify.com/v1/audio-analysis/3cNj...      210580   \n",
       "\n",
       "       time_signature  cluster  \n",
       "4310                4        8  \n",
       "11791               4        8  \n",
       "\n",
       "[2 rows x 21 columns]"
      ]
     },
     "execution_count": 79,
     "metadata": {},
     "output_type": "execute_result"
    }
   ],
   "source": [
    "df_audio_ft_cl[df_audio_ft_cl['track_name'] == track_name]"
   ]
  }
 ],
 "metadata": {
  "kernelspec": {
   "display_name": "base",
   "language": "python",
   "name": "python3"
  },
  "language_info": {
   "codemirror_mode": {
    "name": "ipython",
    "version": 3
   },
   "file_extension": ".py",
   "mimetype": "text/x-python",
   "name": "python",
   "nbconvert_exporter": "python",
   "pygments_lexer": "ipython3",
   "version": "3.11.3"
  },
  "orig_nbformat": 4
 },
 "nbformat": 4,
 "nbformat_minor": 2
}
